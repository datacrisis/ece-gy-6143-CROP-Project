{
 "cells": [
  {
   "cell_type": "code",
   "execution_count": 1,
   "id": "df0a8a05",
   "metadata": {},
   "outputs": [],
   "source": [
    "import pandas as pd\n",
    "import numpy as np\n",
    "from sklearn.model_selection import train_test_split\n",
    "from sklearn.preprocessing import StandardScaler\n",
    "from sklearn.linear_model import LinearRegression, Ridge\n",
    "from sklearn.metrics import r2_score\n",
    "\n",
    "from sklearn.linear_model import Lasso\n",
    "from warnings import simplefilter\n",
    "from sklearn.exceptions import ConvergenceWarning\n",
    "\n",
    "import xgboost as xg\n",
    "from sklearn.ensemble import RandomForestRegressor\n",
    "\n",
    "from tensorflow.keras.models import Model, Sequential\n",
    "from tensorflow.keras.layers import Dense, Activation\n",
    "from tensorflow.keras import optimizers\n",
    "import tensorflow.keras.callbacks\n",
    "import tensorflow.keras.backend as K\n",
    "\n",
    "from sklearn.svm import SVR\n",
    "\n",
    "import matplotlib\n",
    "import matplotlib.pyplot as plt"
   ]
  },
  {
   "cell_type": "code",
   "execution_count": 2,
   "id": "11f65a59",
   "metadata": {},
   "outputs": [],
   "source": [
    "df_json = pd.read_json(\"new_challenge3_dataset.json\")\n"
   ]
  },
  {
   "cell_type": "code",
   "execution_count": 3,
   "id": "4c9d2808",
   "metadata": {},
   "outputs": [],
   "source": [
    "df1 = df_json.fillna(df_json.mean(numeric_only=True))"
   ]
  },
  {
   "cell_type": "code",
   "execution_count": 4,
   "id": "552c0662",
   "metadata": {},
   "outputs": [
    {
     "data": {
      "text/plain": [
       "(111696, 20)"
      ]
     },
     "execution_count": 4,
     "metadata": {},
     "output_type": "execute_result"
    }
   ],
   "source": [
    "df1.shape\n"
   ]
  },
  {
   "cell_type": "code",
   "execution_count": 5,
   "id": "0de3c2bf",
   "metadata": {},
   "outputs": [
    {
     "data": {
      "text/html": [
       "<div>\n",
       "<style scoped>\n",
       "    .dataframe tbody tr th:only-of-type {\n",
       "        vertical-align: middle;\n",
       "    }\n",
       "\n",
       "    .dataframe tbody tr th {\n",
       "        vertical-align: top;\n",
       "    }\n",
       "\n",
       "    .dataframe thead th {\n",
       "        text-align: right;\n",
       "    }\n",
       "</style>\n",
       "<table border=\"1\" class=\"dataframe\">\n",
       "  <thead>\n",
       "    <tr style=\"text-align: right;\">\n",
       "      <th></th>\n",
       "      <th>area</th>\n",
       "      <th>areaCode</th>\n",
       "      <th>item</th>\n",
       "      <th>prod_unit</th>\n",
       "      <th>y0__AgriProd</th>\n",
       "      <th>y0__AnnualFeedProd</th>\n",
       "      <th>y0__AnnualFoodProd</th>\n",
       "      <th>y0__AnnualAgriLosses</th>\n",
       "      <th>y0__GDP</th>\n",
       "      <th>y0__GrossAgriVal</th>\n",
       "      <th>y0__Pesticide</th>\n",
       "      <th>y0__Fire</th>\n",
       "      <th>y1__AgriProd</th>\n",
       "      <th>y1__AnnualFeedProd</th>\n",
       "      <th>y1__AnnualFoodProd</th>\n",
       "      <th>y1__AnnualAgriLosses</th>\n",
       "      <th>y1__GDP</th>\n",
       "      <th>y1__GrossAgriVal</th>\n",
       "      <th>y1__Pesticide</th>\n",
       "      <th>y1__Fire</th>\n",
       "    </tr>\n",
       "  </thead>\n",
       "  <tbody>\n",
       "    <tr>\n",
       "      <th>8</th>\n",
       "      <td>Armenia</td>\n",
       "      <td>1</td>\n",
       "      <td>Barley</td>\n",
       "      <td>tonnes</td>\n",
       "      <td>9.599992e+06</td>\n",
       "      <td>78418.006068</td>\n",
       "      <td>328531.21691</td>\n",
       "      <td>35323.183912</td>\n",
       "      <td>951550.674802</td>\n",
       "      <td>9652.643977</td>\n",
       "      <td>68230.625504</td>\n",
       "      <td>3.479493e+07</td>\n",
       "      <td>9.732991e+06</td>\n",
       "      <td>79489.473794</td>\n",
       "      <td>331406.171654</td>\n",
       "      <td>35674.323792</td>\n",
       "      <td>0.0</td>\n",
       "      <td>9945.248905</td>\n",
       "      <td>68632.584276</td>\n",
       "      <td>3.465965e+07</td>\n",
       "    </tr>\n",
       "    <tr>\n",
       "      <th>9</th>\n",
       "      <td>Armenia</td>\n",
       "      <td>1</td>\n",
       "      <td>Barley</td>\n",
       "      <td>tonnes</td>\n",
       "      <td>9.599992e+06</td>\n",
       "      <td>78418.006068</td>\n",
       "      <td>328531.21691</td>\n",
       "      <td>35323.183912</td>\n",
       "      <td>0.000000</td>\n",
       "      <td>9652.643977</td>\n",
       "      <td>68230.625504</td>\n",
       "      <td>3.479493e+07</td>\n",
       "      <td>9.732991e+06</td>\n",
       "      <td>79489.473794</td>\n",
       "      <td>331406.171654</td>\n",
       "      <td>35674.323792</td>\n",
       "      <td>0.0</td>\n",
       "      <td>9945.248905</td>\n",
       "      <td>68632.584276</td>\n",
       "      <td>3.465965e+07</td>\n",
       "    </tr>\n",
       "    <tr>\n",
       "      <th>10</th>\n",
       "      <td>Armenia</td>\n",
       "      <td>1</td>\n",
       "      <td>Barley</td>\n",
       "      <td>tonnes</td>\n",
       "      <td>9.599992e+06</td>\n",
       "      <td>78418.006068</td>\n",
       "      <td>328531.21691</td>\n",
       "      <td>35323.183912</td>\n",
       "      <td>0.000000</td>\n",
       "      <td>9652.643977</td>\n",
       "      <td>68230.625504</td>\n",
       "      <td>3.479493e+07</td>\n",
       "      <td>9.732991e+06</td>\n",
       "      <td>79489.473794</td>\n",
       "      <td>331406.171654</td>\n",
       "      <td>35674.323792</td>\n",
       "      <td>0.0</td>\n",
       "      <td>9945.248905</td>\n",
       "      <td>68632.584276</td>\n",
       "      <td>3.465965e+07</td>\n",
       "    </tr>\n",
       "    <tr>\n",
       "      <th>11</th>\n",
       "      <td>Armenia</td>\n",
       "      <td>1</td>\n",
       "      <td>Barley</td>\n",
       "      <td>tonnes</td>\n",
       "      <td>9.599992e+06</td>\n",
       "      <td>78418.006068</td>\n",
       "      <td>328531.21691</td>\n",
       "      <td>35323.183912</td>\n",
       "      <td>0.000000</td>\n",
       "      <td>9652.643977</td>\n",
       "      <td>68230.625504</td>\n",
       "      <td>3.479493e+07</td>\n",
       "      <td>9.732991e+06</td>\n",
       "      <td>79489.473794</td>\n",
       "      <td>331406.171654</td>\n",
       "      <td>35674.323792</td>\n",
       "      <td>0.0</td>\n",
       "      <td>9945.248905</td>\n",
       "      <td>68632.584276</td>\n",
       "      <td>3.465965e+07</td>\n",
       "    </tr>\n",
       "    <tr>\n",
       "      <th>12</th>\n",
       "      <td>Armenia</td>\n",
       "      <td>1</td>\n",
       "      <td>Barley</td>\n",
       "      <td>tonnes</td>\n",
       "      <td>9.599992e+06</td>\n",
       "      <td>78418.006068</td>\n",
       "      <td>328531.21691</td>\n",
       "      <td>35323.183912</td>\n",
       "      <td>0.000000</td>\n",
       "      <td>9652.643977</td>\n",
       "      <td>68230.625504</td>\n",
       "      <td>3.479493e+07</td>\n",
       "      <td>9.732991e+06</td>\n",
       "      <td>79489.473794</td>\n",
       "      <td>331406.171654</td>\n",
       "      <td>35674.323792</td>\n",
       "      <td>0.0</td>\n",
       "      <td>9945.248905</td>\n",
       "      <td>68632.584276</td>\n",
       "      <td>3.465965e+07</td>\n",
       "    </tr>\n",
       "    <tr>\n",
       "      <th>13</th>\n",
       "      <td>Armenia</td>\n",
       "      <td>1</td>\n",
       "      <td>Barley</td>\n",
       "      <td>tonnes</td>\n",
       "      <td>9.599992e+06</td>\n",
       "      <td>78418.006068</td>\n",
       "      <td>328531.21691</td>\n",
       "      <td>35323.183912</td>\n",
       "      <td>0.000000</td>\n",
       "      <td>9652.643977</td>\n",
       "      <td>68230.625504</td>\n",
       "      <td>3.479493e+07</td>\n",
       "      <td>9.732991e+06</td>\n",
       "      <td>79489.473794</td>\n",
       "      <td>331406.171654</td>\n",
       "      <td>35674.323792</td>\n",
       "      <td>0.0</td>\n",
       "      <td>9945.248905</td>\n",
       "      <td>68632.584276</td>\n",
       "      <td>3.465965e+07</td>\n",
       "    </tr>\n",
       "  </tbody>\n",
       "</table>\n",
       "</div>"
      ],
      "text/plain": [
       "       area  areaCode    item prod_unit  y0__AgriProd  y0__AnnualFeedProd  \\\n",
       "8   Armenia         1  Barley    tonnes  9.599992e+06        78418.006068   \n",
       "9   Armenia         1  Barley    tonnes  9.599992e+06        78418.006068   \n",
       "10  Armenia         1  Barley    tonnes  9.599992e+06        78418.006068   \n",
       "11  Armenia         1  Barley    tonnes  9.599992e+06        78418.006068   \n",
       "12  Armenia         1  Barley    tonnes  9.599992e+06        78418.006068   \n",
       "13  Armenia         1  Barley    tonnes  9.599992e+06        78418.006068   \n",
       "\n",
       "    y0__AnnualFoodProd  y0__AnnualAgriLosses        y0__GDP  y0__GrossAgriVal  \\\n",
       "8         328531.21691          35323.183912  951550.674802       9652.643977   \n",
       "9         328531.21691          35323.183912       0.000000       9652.643977   \n",
       "10        328531.21691          35323.183912       0.000000       9652.643977   \n",
       "11        328531.21691          35323.183912       0.000000       9652.643977   \n",
       "12        328531.21691          35323.183912       0.000000       9652.643977   \n",
       "13        328531.21691          35323.183912       0.000000       9652.643977   \n",
       "\n",
       "    y0__Pesticide      y0__Fire  y1__AgriProd  y1__AnnualFeedProd  \\\n",
       "8    68230.625504  3.479493e+07  9.732991e+06        79489.473794   \n",
       "9    68230.625504  3.479493e+07  9.732991e+06        79489.473794   \n",
       "10   68230.625504  3.479493e+07  9.732991e+06        79489.473794   \n",
       "11   68230.625504  3.479493e+07  9.732991e+06        79489.473794   \n",
       "12   68230.625504  3.479493e+07  9.732991e+06        79489.473794   \n",
       "13   68230.625504  3.479493e+07  9.732991e+06        79489.473794   \n",
       "\n",
       "    y1__AnnualFoodProd  y1__AnnualAgriLosses  y1__GDP  y1__GrossAgriVal  \\\n",
       "8        331406.171654          35674.323792      0.0       9945.248905   \n",
       "9        331406.171654          35674.323792      0.0       9945.248905   \n",
       "10       331406.171654          35674.323792      0.0       9945.248905   \n",
       "11       331406.171654          35674.323792      0.0       9945.248905   \n",
       "12       331406.171654          35674.323792      0.0       9945.248905   \n",
       "13       331406.171654          35674.323792      0.0       9945.248905   \n",
       "\n",
       "    y1__Pesticide      y1__Fire  \n",
       "8    68632.584276  3.465965e+07  \n",
       "9    68632.584276  3.465965e+07  \n",
       "10   68632.584276  3.465965e+07  \n",
       "11   68632.584276  3.465965e+07  \n",
       "12   68632.584276  3.465965e+07  \n",
       "13   68632.584276  3.465965e+07  "
      ]
     },
     "execution_count": 5,
     "metadata": {},
     "output_type": "execute_result"
    }
   ],
   "source": [
    "df1.head(6)"
   ]
  },
  {
   "cell_type": "code",
   "execution_count": 6,
   "id": "216f8d4e",
   "metadata": {},
   "outputs": [
    {
     "name": "stdout",
     "output_type": "stream",
     "text": [
      "Categorical variables = ['item', 'prod_unit']\n",
      "\n",
      "Real variables = ['areaCode', 'y0__AgriProd', 'y0__AnnualFeedProd', 'y0__AnnualFoodProd', 'y0__AnnualAgriLosses', 'y0__GDP', 'y0__GrossAgriVal', 'y0__Pesticide', 'y0__Fire']\n"
     ]
    }
   ],
   "source": [
    "ignore_vars = ['y1__AgriProd','area', 'y1__AnnualFeedProd', 'y1__AnnualFoodProd', 'y1__AnnualAgriLosses','y1__GDP', 'y1__GrossAgriVal', 'y1__Pesticide', 'y1__Fire' ]\n",
    "\n",
    "# Find real and categorical variables\n",
    "cols = df1.columns\n",
    "cat_vars = []\n",
    "real_vars = []\n",
    "\n",
    "for col in cols:\n",
    "    \n",
    "    if not (col in ignore_vars):\n",
    "        if df1.dtypes[col]  == 'object':\n",
    "            cat_vars.append(col)\n",
    "        else:\n",
    "            real_vars.append(col)\n",
    "                \n",
    "print('Categorical variables = ' + str(cat_vars))\n",
    "print('')\n",
    "print('Real variables = ' + str(real_vars))"
   ]
  },
  {
   "cell_type": "code",
   "execution_count": 7,
   "id": "3fbb1984",
   "metadata": {},
   "outputs": [],
   "source": [
    "df_real = df1[real_vars]\n",
    "df_cat = df1[cat_vars]\n",
    "\n",
    "# One-hot encode the categorical variables\n",
    "df_cat_enc = pd.get_dummies(df_cat, drop_first=True)"
   ]
  },
  {
   "cell_type": "code",
   "execution_count": 8,
   "id": "b539cc07",
   "metadata": {},
   "outputs": [
    {
     "data": {
      "text/html": [
       "<div>\n",
       "<style scoped>\n",
       "    .dataframe tbody tr th:only-of-type {\n",
       "        vertical-align: middle;\n",
       "    }\n",
       "\n",
       "    .dataframe tbody tr th {\n",
       "        vertical-align: top;\n",
       "    }\n",
       "\n",
       "    .dataframe thead th {\n",
       "        text-align: right;\n",
       "    }\n",
       "</style>\n",
       "<table border=\"1\" class=\"dataframe\">\n",
       "  <thead>\n",
       "    <tr style=\"text-align: right;\">\n",
       "      <th></th>\n",
       "      <th>item_Beans, dry</th>\n",
       "      <th>item_Buckwheat</th>\n",
       "      <th>item_Millet</th>\n",
       "      <th>item_Molasses</th>\n",
       "      <th>item_Oats</th>\n",
       "      <th>item_Potatoes</th>\n",
       "      <th>item_Rice</th>\n",
       "      <th>item_Rice, paddy (rice milled equivalent)</th>\n",
       "      <th>item_Rye</th>\n",
       "      <th>item_Sorghum</th>\n",
       "      <th>item_Sugar Crops Primary</th>\n",
       "      <th>item_Wheat</th>\n",
       "    </tr>\n",
       "  </thead>\n",
       "  <tbody>\n",
       "    <tr>\n",
       "      <th>8</th>\n",
       "      <td>0</td>\n",
       "      <td>0</td>\n",
       "      <td>0</td>\n",
       "      <td>0</td>\n",
       "      <td>0</td>\n",
       "      <td>0</td>\n",
       "      <td>0</td>\n",
       "      <td>0</td>\n",
       "      <td>0</td>\n",
       "      <td>0</td>\n",
       "      <td>0</td>\n",
       "      <td>0</td>\n",
       "    </tr>\n",
       "    <tr>\n",
       "      <th>9</th>\n",
       "      <td>0</td>\n",
       "      <td>0</td>\n",
       "      <td>0</td>\n",
       "      <td>0</td>\n",
       "      <td>0</td>\n",
       "      <td>0</td>\n",
       "      <td>0</td>\n",
       "      <td>0</td>\n",
       "      <td>0</td>\n",
       "      <td>0</td>\n",
       "      <td>0</td>\n",
       "      <td>0</td>\n",
       "    </tr>\n",
       "    <tr>\n",
       "      <th>10</th>\n",
       "      <td>0</td>\n",
       "      <td>0</td>\n",
       "      <td>0</td>\n",
       "      <td>0</td>\n",
       "      <td>0</td>\n",
       "      <td>0</td>\n",
       "      <td>0</td>\n",
       "      <td>0</td>\n",
       "      <td>0</td>\n",
       "      <td>0</td>\n",
       "      <td>0</td>\n",
       "      <td>0</td>\n",
       "    </tr>\n",
       "    <tr>\n",
       "      <th>11</th>\n",
       "      <td>0</td>\n",
       "      <td>0</td>\n",
       "      <td>0</td>\n",
       "      <td>0</td>\n",
       "      <td>0</td>\n",
       "      <td>0</td>\n",
       "      <td>0</td>\n",
       "      <td>0</td>\n",
       "      <td>0</td>\n",
       "      <td>0</td>\n",
       "      <td>0</td>\n",
       "      <td>0</td>\n",
       "    </tr>\n",
       "    <tr>\n",
       "      <th>12</th>\n",
       "      <td>0</td>\n",
       "      <td>0</td>\n",
       "      <td>0</td>\n",
       "      <td>0</td>\n",
       "      <td>0</td>\n",
       "      <td>0</td>\n",
       "      <td>0</td>\n",
       "      <td>0</td>\n",
       "      <td>0</td>\n",
       "      <td>0</td>\n",
       "      <td>0</td>\n",
       "      <td>0</td>\n",
       "    </tr>\n",
       "  </tbody>\n",
       "</table>\n",
       "</div>"
      ],
      "text/plain": [
       "    item_Beans, dry  item_Buckwheat  item_Millet  item_Molasses  item_Oats  \\\n",
       "8                 0               0            0              0          0   \n",
       "9                 0               0            0              0          0   \n",
       "10                0               0            0              0          0   \n",
       "11                0               0            0              0          0   \n",
       "12                0               0            0              0          0   \n",
       "\n",
       "    item_Potatoes  item_Rice  item_Rice, paddy (rice milled equivalent)  \\\n",
       "8               0          0                                          0   \n",
       "9               0          0                                          0   \n",
       "10              0          0                                          0   \n",
       "11              0          0                                          0   \n",
       "12              0          0                                          0   \n",
       "\n",
       "    item_Rye  item_Sorghum  item_Sugar Crops Primary  item_Wheat  \n",
       "8          0             0                         0           0  \n",
       "9          0             0                         0           0  \n",
       "10         0             0                         0           0  \n",
       "11         0             0                         0           0  \n",
       "12         0             0                         0           0  "
      ]
     },
     "execution_count": 8,
     "metadata": {},
     "output_type": "execute_result"
    }
   ],
   "source": [
    "df_cat_enc.head()"
   ]
  },
  {
   "cell_type": "code",
   "execution_count": 9,
   "id": "4a38e915",
   "metadata": {},
   "outputs": [
    {
     "data": {
      "text/plain": [
       "(111696, 12)"
      ]
     },
     "execution_count": 9,
     "metadata": {},
     "output_type": "execute_result"
    }
   ],
   "source": [
    "df_cat_enc.shape"
   ]
  },
  {
   "cell_type": "code",
   "execution_count": 10,
   "id": "f328fe32",
   "metadata": {},
   "outputs": [
    {
     "name": "stdout",
     "output_type": "stream",
     "text": [
      "(111696, 21)\n"
     ]
    }
   ],
   "source": [
    "df_enc = pd.concat((df_real, df_cat_enc), axis=1)\n",
    "X = np.array(df_enc)\n",
    "print(X.shape)\n",
    "\n",
    "xnames = df_enc.columns"
   ]
  },
  {
   "cell_type": "code",
   "execution_count": 11,
   "id": "6780269a",
   "metadata": {},
   "outputs": [],
   "source": [
    "y = np.array(df1['y1__AgriProd'])"
   ]
  },
  {
   "cell_type": "code",
   "execution_count": 12,
   "id": "f7d25e97",
   "metadata": {},
   "outputs": [
    {
     "name": "stdout",
     "output_type": "stream",
     "text": [
      "Index(['areaCode', 'y0__AgriProd', 'y0__AnnualFeedProd', 'y0__AnnualFoodProd',\n",
      "       'y0__AnnualAgriLosses', 'y0__GDP', 'y0__GrossAgriVal', 'y0__Pesticide',\n",
      "       'y0__Fire', 'item_Beans, dry'],\n",
      "      dtype='object')\n"
     ]
    }
   ],
   "source": [
    "print(xnames[0:10])"
   ]
  },
  {
   "cell_type": "code",
   "execution_count": 13,
   "id": "8a35bfa5",
   "metadata": {},
   "outputs": [],
   "source": [
    "Xtr, Xts, ytr, yts = train_test_split(X,y,test_size=0.3)"
   ]
  },
  {
   "cell_type": "code",
   "execution_count": 14,
   "id": "be65173d",
   "metadata": {},
   "outputs": [],
   "source": [
    "# Create the scaler objects\n",
    "xscal = StandardScaler()\n",
    "yscal = StandardScaler()\n",
    "\n",
    "# Fit and transform the training data\n",
    "Xtr1 = xscal.fit_transform(Xtr)\n",
    "ytr1 = yscal.fit_transform(ytr[:,None])\n",
    "\n",
    "# Transform the test data\n",
    "Xts1 = xscal.transform(Xts)\n",
    "yts1 = yscal.transform(yts[:,None])"
   ]
  },
  {
   "cell_type": "markdown",
   "id": "59c5fc29",
   "metadata": {},
   "source": [
    "# Linear Regression"
   ]
  },
  {
   "cell_type": "code",
   "execution_count": 15,
   "id": "c9912f70",
   "metadata": {},
   "outputs": [
    {
     "name": "stdout",
     "output_type": "stream",
     "text": [
      "Training R^2 =   9.9692e-01\n",
      "Test R^2     =   9.9597e-01\n"
     ]
    }
   ],
   "source": [
    "\n",
    "# Fit\n",
    "reg_ls = LinearRegression()\n",
    "reg_ls.fit(Xtr1, ytr1)\n",
    "\n",
    "# Training R^2\n",
    "yhat1_tr = reg_ls.predict(Xtr1)\n",
    "rsq_tr = r2_score(yhat1_tr, ytr1)\n",
    "print('Training R^2 = %12.4e' % rsq_tr)\n",
    "\n",
    "# Test R^2\n",
    "yhat1_ts = reg_ls.predict(Xts1)\n",
    "rsq_ts = r2_score(yts1, yhat1_ts)\n",
    "print('Test R^2     = %12.4e' % rsq_ts)"
   ]
  },
  {
   "cell_type": "code",
   "execution_count": 16,
   "id": "5d45053d",
   "metadata": {},
   "outputs": [
    {
     "name": "stdout",
     "output_type": "stream",
     "text": [
      "Test R^2     = 0.995974\n"
     ]
    }
   ],
   "source": [
    "reg_ls = Ridge(alpha=1e-5)\n",
    "reg_ls.fit(Xtr1, ytr1)\n",
    "yhat1 = reg_ls.predict(Xts1)\n",
    "rsq = r2_score(yts1, yhat1)\n",
    "print('Test R^2     = %f' % rsq)"
   ]
  },
  {
   "cell_type": "code",
   "execution_count": 17,
   "id": "ed596d7a",
   "metadata": {},
   "outputs": [
    {
     "name": "stdout",
     "output_type": "stream",
     "text": [
      "Test R^2= 0.995904\n"
     ]
    }
   ],
   "source": [
    "\n",
    "simplefilter(\"ignore\", category=ConvergenceWarning)\n",
    "\n",
    "# Select alpha\n",
    "alpha = 3e-3\n",
    "\n",
    "# Create Lasso object and fit on training data\n",
    "reg = Lasso(alpha=alpha)\n",
    "reg.fit(Xtr1, ytr1)\n",
    "\n",
    "# Predict and score on test\n",
    "yhat1 = reg.predict(Xts1)\n",
    "rsq = r2_score(yts1, yhat1)\n",
    "\n",
    "print('Test R^2= %f' % rsq)"
   ]
  },
  {
   "cell_type": "markdown",
   "id": "ca8542b2",
   "metadata": {},
   "source": [
    "# SVR"
   ]
  },
  {
   "cell_type": "code",
   "execution_count": 18,
   "id": "c3c6e4bf",
   "metadata": {},
   "outputs": [
    {
     "name": "stdout",
     "output_type": "stream",
     "text": [
      "Test R^2     =   7.1767e-01\n"
     ]
    }
   ],
   "source": [
    "regressor = SVR(kernel = 'rbf')\n",
    "regressor.fit(Xtr1, ytr1.ravel())\n",
    "yhat = regressor.predict(Xts1)\n",
    "\n",
    "rsq_ts = r2_score(yts1, yhat)\n",
    "print('Test R^2     = %12.4e' % rsq_ts)"
   ]
  },
  {
   "cell_type": "markdown",
   "id": "7b4f698f",
   "metadata": {},
   "source": [
    "# Neural Networks"
   ]
  },
  {
   "cell_type": "code",
   "execution_count": 19,
   "id": "2ecd5265",
   "metadata": {},
   "outputs": [],
   "source": [
    "K.clear_session()"
   ]
  },
  {
   "cell_type": "code",
   "execution_count": 20,
   "id": "eec9af51",
   "metadata": {},
   "outputs": [],
   "source": [
    "\n",
    "nin = Xtr.shape[1]  # dimension of input data\n",
    "nh = 256   # number of hidden units\n",
    "nout = 1  \n",
    "model = Sequential()\n",
    "model.add(Dense(units=nh, input_shape=(nin,),kernel_initializer='normal',activation='relu', name='hidden'))\n",
    "model.add(Dense(units=20,kernel_initializer='normal' ,activation='tanh'))\n",
    "model.add(Dense(units=1,kernel_initializer='normal' ,name='output', activation ='linear'))\n"
   ]
  },
  {
   "cell_type": "code",
   "execution_count": 21,
   "id": "46c00512",
   "metadata": {},
   "outputs": [
    {
     "name": "stdout",
     "output_type": "stream",
     "text": [
      "Model: \"sequential\"\n",
      "_________________________________________________________________\n",
      " Layer (type)                Output Shape              Param #   \n",
      "=================================================================\n",
      " hidden (Dense)              (None, 256)               5632      \n",
      "                                                                 \n",
      " dense (Dense)               (None, 20)                5140      \n",
      "                                                                 \n",
      " output (Dense)              (None, 1)                 21        \n",
      "                                                                 \n",
      "=================================================================\n",
      "Total params: 10,793\n",
      "Trainable params: 10,793\n",
      "Non-trainable params: 0\n",
      "_________________________________________________________________\n"
     ]
    }
   ],
   "source": [
    "model.summary()"
   ]
  },
  {
   "cell_type": "code",
   "execution_count": 22,
   "id": "89b5fcf5",
   "metadata": {},
   "outputs": [],
   "source": [
    "\n",
    "opt = optimizers.Adam(learning_rate=0.001)\n",
    "model.compile(optimizer=opt,\n",
    "              loss='mean_squared_error'\n",
    "             )"
   ]
  },
  {
   "cell_type": "code",
   "execution_count": 23,
   "id": "f2f287d9",
   "metadata": {},
   "outputs": [
    {
     "name": "stdout",
     "output_type": "stream",
     "text": [
      "Epoch 1/10\n",
      "782/782 [==============================] - 6s 5ms/step - loss: 0.4683 - val_loss: 0.2899\n",
      "Epoch 2/10\n",
      "782/782 [==============================] - 3s 4ms/step - loss: 0.2300 - val_loss: 0.1989\n",
      "Epoch 3/10\n",
      "782/782 [==============================] - 4s 4ms/step - loss: 0.1527 - val_loss: 0.1473\n",
      "Epoch 4/10\n",
      "782/782 [==============================] - 3s 4ms/step - loss: 0.1150 - val_loss: 0.1157\n",
      "Epoch 5/10\n",
      "782/782 [==============================] - 3s 4ms/step - loss: 0.0940 - val_loss: 0.1066\n",
      "Epoch 6/10\n",
      "782/782 [==============================] - 3s 4ms/step - loss: 0.0786 - val_loss: 0.0838\n",
      "Epoch 7/10\n",
      "782/782 [==============================] - 4s 5ms/step - loss: 0.0562 - val_loss: 0.0661\n",
      "Epoch 8/10\n",
      "782/782 [==============================] - 4s 5ms/step - loss: 0.0495 - val_loss: 0.0757\n",
      "Epoch 9/10\n",
      "782/782 [==============================] - 3s 4ms/step - loss: 0.0431 - val_loss: 0.0465\n",
      "Epoch 10/10\n",
      "782/782 [==============================] - 3s 4ms/step - loss: 0.0307 - val_loss: 0.0383\n"
     ]
    }
   ],
   "source": [
    "hist = model.fit(Xtr1, ytr1, epochs=10, batch_size=100, validation_data=(Xts1,yts1))"
   ]
  },
  {
   "cell_type": "code",
   "execution_count": 24,
   "id": "96171245",
   "metadata": {},
   "outputs": [
    {
     "data": {
      "text/plain": [
       "Text(0, 0.5, 'loss')"
      ]
     },
     "execution_count": 24,
     "metadata": {},
     "output_type": "execute_result"
    },
    {
     "data": {
      "image/png": "[encoded data removed]",
      "text/plain": [
       "<Figure size 432x288 with 1 Axes>"
      ]
     },
     "metadata": {
      "needs_background": "light"
     },
     "output_type": "display_data"
    }
   ],
   "source": [
    "tr_accuracy = hist.history['loss']\n",
    "\n",
    "\n",
    "plt.plot(tr_accuracy)\n",
    "plt.grid()\n",
    "plt.xlabel('epochs')\n",
    "plt.ylabel('loss')\n"
   ]
  },
  {
   "cell_type": "code",
   "execution_count": 25,
   "id": "8ac2db6f",
   "metadata": {},
   "outputs": [
    {
     "name": "stdout",
     "output_type": "stream",
     "text": [
      "Requirement already satisfied: xgboost in c:\\users\\shash\\anaconda3\\lib\\site-packages (1.7.2)\n",
      "Requirement already satisfied: scipy in c:\\users\\shash\\anaconda3\\lib\\site-packages (from xgboost) (1.7.3)\n",
      "Requirement already satisfied: numpy in c:\\users\\shash\\anaconda3\\lib\\site-packages (from xgboost) (1.21.5)\n"
     ]
    }
   ],
   "source": [
    "# !pip install xgboost"
   ]
  },
  {
   "cell_type": "markdown",
   "id": "5c32049d",
   "metadata": {},
   "source": [
    "# Random Forest Regressor"
   ]
  },
  {
   "cell_type": "code",
   "execution_count": 35,
   "id": "803ba500",
   "metadata": {},
   "outputs": [
    {
     "name": "stdout",
     "output_type": "stream",
     "text": [
      "Random forest  accuracy =  0.9960738806617813\n"
     ]
    }
   ],
   "source": [
    "model = RandomForestRegressor()\n",
    "model.fit(Xtr1,ytr1.ravel())\n",
    "\n",
    "# Getting r2_score on test data\n",
    "yhat = model.predict(Xts1)\n",
    "r2 = r2_score(yts1, yhat)\n",
    "print('Random forest  accuracy = ', r2)"
   ]
  },
  {
   "cell_type": "markdown",
   "id": "c029b4df",
   "metadata": {},
   "source": [
    "# Xgboost"
   ]
  },
  {
   "cell_type": "code",
   "execution_count": 34,
   "id": "cbde3a61",
   "metadata": {},
   "outputs": [
    {
     "name": "stdout",
     "output_type": "stream",
     "text": [
      "XGBoost accuracy =  0.9959694715754389\n"
     ]
    }
   ],
   "source": [
    "XGBModel = xg.XGBRegressor()\n",
    "XGBModel.fit(Xtr1,ytr1 , verbose=False)\n",
    "\n",
    "# Getting r2_score on the test data :\n",
    "yhat = XGBModel.predict(Xts1)\n",
    "r2 = r2_score(yts1 , yhat)\n",
    "print('XGBoost accuracy = ',r2)"
   ]
  },
  {
   "cell_type": "markdown",
   "id": "1a24f733",
   "metadata": {},
   "source": [
    "# Ablation (ignoring area)"
   ]
  },
  {
   "cell_type": "code",
   "execution_count": 28,
   "id": "92dbc717",
   "metadata": {},
   "outputs": [
    {
     "name": "stdout",
     "output_type": "stream",
     "text": [
      "Categorical variables = ['item', 'prod_unit']\n",
      "\n",
      "Real variables = ['y0__AgriProd', 'y0__AnnualFeedProd', 'y0__AnnualFoodProd', 'y0__AnnualAgriLosses', 'y0__GDP', 'y0__GrossAgriVal', 'y0__Pesticide', 'y0__Fire']\n"
     ]
    }
   ],
   "source": [
    "ignore_vars = ['areaCode','y1__AgriProd','area', 'y1__AnnualFeedProd', 'y1__AnnualFoodProd', 'y1__AnnualAgriLosses','y1__GDP', 'y1__GrossAgriVal', 'y1__Pesticide', 'y1__Fire' ]\n",
    "\n",
    "# Find real and categorical variables\n",
    "cols = df1.columns\n",
    "cat_vars = []\n",
    "real_vars = []\n",
    "\n",
    "for col in cols:\n",
    "    \n",
    "    if not (col in ignore_vars):\n",
    "        if df1.dtypes[col]  == 'object':\n",
    "            cat_vars.append(col)\n",
    "        else:\n",
    "            real_vars.append(col)\n",
    "                \n",
    "print('Categorical variables = ' + str(cat_vars))\n",
    "print('')\n",
    "print('Real variables = ' + str(real_vars))\n",
    "\n",
    "df_real = df1[real_vars]\n",
    "df_cat = df1[cat_vars]\n",
    "\n",
    "# One-hot encode the categorical variables\n",
    "df_cat_enc = pd.get_dummies(df_cat, drop_first=True)\n",
    "                            \n",
    "\n",
    "df_enc = pd.concat((df_real, df_cat_enc), axis=1)\n",
    "X = np.array(df_enc)\n",
    "\n",
    "y = np.array(df1['y1__AgriProd'])\n"
   ]
  },
  {
   "cell_type": "code",
   "execution_count": 29,
   "id": "e10dd5ce",
   "metadata": {},
   "outputs": [],
   "source": [
    "Xtr, Xts, ytr, yts = train_test_split(X,y,test_size=0.3)\n"
   ]
  },
  {
   "cell_type": "code",
   "execution_count": 30,
   "id": "5b914d8c",
   "metadata": {},
   "outputs": [],
   "source": [
    "# Create the scaler objects\n",
    "xscal = StandardScaler()\n",
    "yscal = StandardScaler()\n",
    "\n",
    "# Fit and transform the training data\n",
    "Xtr1 = xscal.fit_transform(Xtr)\n",
    "ytr1 = yscal.fit_transform(ytr[:,None])\n",
    "\n",
    "# Transform the test data\n",
    "Xts1 = xscal.transform(Xts)\n",
    "yts1 = yscal.transform(yts[:,None])"
   ]
  },
  {
   "cell_type": "markdown",
   "id": "8c834207",
   "metadata": {},
   "source": [
    "# Linear Regression with Ablation"
   ]
  },
  {
   "cell_type": "code",
   "execution_count": 31,
   "id": "f1cb8174",
   "metadata": {},
   "outputs": [
    {
     "name": "stdout",
     "output_type": "stream",
     "text": [
      "Training R^2 =   9.9674e-01\n",
      "Test R^2     =   9.9641e-01\n"
     ]
    }
   ],
   "source": [
    "# Fit\n",
    "reg_ls = LinearRegression()\n",
    "reg_ls.fit(Xtr1, ytr1)\n",
    "\n",
    "# Training R^2\n",
    "yhat1_tr = reg_ls.predict(Xtr1)\n",
    "rsq_tr = r2_score(yhat1_tr, ytr1)\n",
    "print('Training R^2 = %12.4e' % rsq_tr)\n",
    "\n",
    "# Test R^2\n",
    "yhat1_ts = reg_ls.predict(Xts1)\n",
    "rsq_ts = r2_score(yts1, yhat1_ts)\n",
    "print('Test R^2     = %12.4e' % rsq_ts)"
   ]
  },
  {
   "cell_type": "markdown",
   "id": "f30b0542",
   "metadata": {},
   "source": [
    "# Ridge Regrssion"
   ]
  },
  {
   "cell_type": "code",
   "execution_count": 32,
   "id": "540cc7e4",
   "metadata": {},
   "outputs": [
    {
     "name": "stdout",
     "output_type": "stream",
     "text": [
      "Test R^2     = 0.996413\n"
     ]
    }
   ],
   "source": [
    "reg_ls = Ridge(alpha=1e-5)\n",
    "reg_ls.fit(Xtr1, ytr1)\n",
    "yhat1 = reg_ls.predict(Xts1)\n",
    "rsq = r2_score(yts1, yhat1)\n",
    "print('Test R^2     = %f' % rsq)"
   ]
  },
  {
   "cell_type": "markdown",
   "id": "cebcd69b",
   "metadata": {},
   "source": [
    "# XGboost with Ablation"
   ]
  },
  {
   "cell_type": "code",
   "execution_count": 33,
   "id": "3d57c17c",
   "metadata": {},
   "outputs": [
    {
     "name": "stdout",
     "output_type": "stream",
     "text": [
      "XGBoost validation r2_score =  0.9959694715754389\n"
     ]
    }
   ],
   "source": [
    "XGBModel = xg.XGBRegressor()\n",
    "XGBModel.fit(Xtr1,ytr1 , verbose=False)\n",
    "\n",
    "# Getting r2_score on test data :\n",
    "yhat = XGBModel.predict(Xts1)\n",
    "r2 = r2_score(yts1 , yhat)\n",
    "print('XGBoost validation r2_score = ',r2)"
   ]
  },
  {
   "cell_type": "code",
   "execution_count": null,
   "id": "6f381cd4",
   "metadata": {},
   "outputs": [],
   "source": []
  }
 ],
 "metadata": {
  "kernelspec": {
   "display_name": "Python 3 (ipykernel)",
   "language": "python",
   "name": "python3"
  },
  "language_info": {
   "codemirror_mode": {
    "name": "ipython",
    "version": 3
   },
   "file_extension": ".py",
   "mimetype": "text/x-python",
   "name": "python",
   "nbconvert_exporter": "python",
   "pygments_lexer": "ipython3",
   "version": "3.9.12"
  }
 },
 "nbformat": 4,
 "nbformat_minor": 5
}
