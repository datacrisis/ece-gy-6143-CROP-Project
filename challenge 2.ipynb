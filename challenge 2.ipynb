{
 "cells": [
  {
   "cell_type": "code",
   "execution_count": 1,
   "id": "9a80dccd",
   "metadata": {},
   "outputs": [],
   "source": [
    "\n",
    "import pandas as pd\n",
    "import numpy as np\n",
    "from sklearn.model_selection import train_test_split\n",
    "from sklearn.preprocessing import StandardScaler\n",
    "from sklearn.linear_model import LinearRegression, Ridge\n",
    "from sklearn.metrics import r2_score\n",
    "\n",
    "from sklearn.linear_model import Lasso\n",
    "from warnings import simplefilter\n",
    "from sklearn.exceptions import ConvergenceWarning\n",
    "\n",
    "import xgboost as xg\n",
    "from sklearn.ensemble import RandomForestRegressor\n",
    "\n",
    "from tensorflow.keras.models import Model, Sequential\n",
    "from tensorflow.keras.layers import Dense, Activation\n",
    "from tensorflow.keras import optimizers\n",
    "import tensorflow.keras.callbacks\n",
    "import tensorflow.keras.backend as K\n",
    "\n",
    "from sklearn.svm import SVR\n",
    "\n",
    "import matplotlib\n",
    "import matplotlib.pyplot as plt"
   ]
  },
  {
   "cell_type": "code",
   "execution_count": 2,
   "id": "0afa30e1",
   "metadata": {},
   "outputs": [],
   "source": [
    "df_json = pd.read_json(\"new_challenge2_dataset.json\")"
   ]
  },
  {
   "cell_type": "code",
   "execution_count": 3,
   "id": "6f2f9d9c",
   "metadata": {},
   "outputs": [
    {
     "data": {
      "text/plain": [
       "(105873, 52)"
      ]
     },
     "execution_count": 3,
     "metadata": {},
     "output_type": "execute_result"
    }
   ],
   "source": [
    "df_json.shape"
   ]
  },
  {
   "cell_type": "code",
   "execution_count": 4,
   "id": "e87eb9d3",
   "metadata": {},
   "outputs": [
    {
     "data": {
      "text/html": [
       "<div>\n",
       "<style scoped>\n",
       "    .dataframe tbody tr th:only-of-type {\n",
       "        vertical-align: middle;\n",
       "    }\n",
       "\n",
       "    .dataframe tbody tr th {\n",
       "        vertical-align: top;\n",
       "    }\n",
       "\n",
       "    .dataframe thead th {\n",
       "        text-align: right;\n",
       "    }\n",
       "</style>\n",
       "<table border=\"1\" class=\"dataframe\">\n",
       "  <thead>\n",
       "    <tr style=\"text-align: right;\">\n",
       "      <th></th>\n",
       "      <th>area</th>\n",
       "      <th>areaCode</th>\n",
       "      <th>item</th>\n",
       "      <th>prod_unit</th>\n",
       "      <th>y0__AgriProd</th>\n",
       "      <th>y0__AnnualFeedProd</th>\n",
       "      <th>y0__AnnualFoodProd</th>\n",
       "      <th>y0__AnnualAgriLosses</th>\n",
       "      <th>y0__GDP</th>\n",
       "      <th>y0__GrossAgriVal</th>\n",
       "      <th>...</th>\n",
       "      <th>y4__Pesticide</th>\n",
       "      <th>y4__Fire</th>\n",
       "      <th>y5__AgriProd</th>\n",
       "      <th>y5__AnnualFeedProd</th>\n",
       "      <th>y5__AnnualFoodProd</th>\n",
       "      <th>y5__AnnualAgriLosses</th>\n",
       "      <th>y5__GDP</th>\n",
       "      <th>y5__GrossAgriVal</th>\n",
       "      <th>y5__Pesticide</th>\n",
       "      <th>y5__Fire</th>\n",
       "    </tr>\n",
       "  </thead>\n",
       "  <tbody>\n",
       "    <tr>\n",
       "      <th>4</th>\n",
       "      <td>Armenia</td>\n",
       "      <td>1</td>\n",
       "      <td>Barley</td>\n",
       "      <td>tonnes</td>\n",
       "      <td>NaN</td>\n",
       "      <td>NaN</td>\n",
       "      <td>NaN</td>\n",
       "      <td>NaN</td>\n",
       "      <td>NaN</td>\n",
       "      <td>NaN</td>\n",
       "      <td>...</td>\n",
       "      <td>NaN</td>\n",
       "      <td>NaN</td>\n",
       "      <td>NaN</td>\n",
       "      <td>NaN</td>\n",
       "      <td>NaN</td>\n",
       "      <td>NaN</td>\n",
       "      <td>0.0</td>\n",
       "      <td>NaN</td>\n",
       "      <td>NaN</td>\n",
       "      <td>NaN</td>\n",
       "    </tr>\n",
       "    <tr>\n",
       "      <th>5</th>\n",
       "      <td>Armenia</td>\n",
       "      <td>1</td>\n",
       "      <td>Barley</td>\n",
       "      <td>tonnes</td>\n",
       "      <td>NaN</td>\n",
       "      <td>NaN</td>\n",
       "      <td>NaN</td>\n",
       "      <td>NaN</td>\n",
       "      <td>NaN</td>\n",
       "      <td>NaN</td>\n",
       "      <td>...</td>\n",
       "      <td>NaN</td>\n",
       "      <td>NaN</td>\n",
       "      <td>NaN</td>\n",
       "      <td>NaN</td>\n",
       "      <td>NaN</td>\n",
       "      <td>NaN</td>\n",
       "      <td>0.0</td>\n",
       "      <td>NaN</td>\n",
       "      <td>NaN</td>\n",
       "      <td>NaN</td>\n",
       "    </tr>\n",
       "    <tr>\n",
       "      <th>6</th>\n",
       "      <td>Armenia</td>\n",
       "      <td>1</td>\n",
       "      <td>Barley</td>\n",
       "      <td>tonnes</td>\n",
       "      <td>NaN</td>\n",
       "      <td>NaN</td>\n",
       "      <td>NaN</td>\n",
       "      <td>NaN</td>\n",
       "      <td>NaN</td>\n",
       "      <td>NaN</td>\n",
       "      <td>...</td>\n",
       "      <td>NaN</td>\n",
       "      <td>NaN</td>\n",
       "      <td>NaN</td>\n",
       "      <td>NaN</td>\n",
       "      <td>NaN</td>\n",
       "      <td>NaN</td>\n",
       "      <td>0.0</td>\n",
       "      <td>NaN</td>\n",
       "      <td>NaN</td>\n",
       "      <td>NaN</td>\n",
       "    </tr>\n",
       "    <tr>\n",
       "      <th>7</th>\n",
       "      <td>Armenia</td>\n",
       "      <td>1</td>\n",
       "      <td>Barley</td>\n",
       "      <td>tonnes</td>\n",
       "      <td>NaN</td>\n",
       "      <td>NaN</td>\n",
       "      <td>NaN</td>\n",
       "      <td>NaN</td>\n",
       "      <td>NaN</td>\n",
       "      <td>NaN</td>\n",
       "      <td>...</td>\n",
       "      <td>NaN</td>\n",
       "      <td>NaN</td>\n",
       "      <td>NaN</td>\n",
       "      <td>NaN</td>\n",
       "      <td>NaN</td>\n",
       "      <td>NaN</td>\n",
       "      <td>0.0</td>\n",
       "      <td>NaN</td>\n",
       "      <td>NaN</td>\n",
       "      <td>NaN</td>\n",
       "    </tr>\n",
       "    <tr>\n",
       "      <th>8</th>\n",
       "      <td>Armenia</td>\n",
       "      <td>1</td>\n",
       "      <td>Barley</td>\n",
       "      <td>tonnes</td>\n",
       "      <td>NaN</td>\n",
       "      <td>NaN</td>\n",
       "      <td>NaN</td>\n",
       "      <td>NaN</td>\n",
       "      <td>NaN</td>\n",
       "      <td>NaN</td>\n",
       "      <td>...</td>\n",
       "      <td>NaN</td>\n",
       "      <td>NaN</td>\n",
       "      <td>NaN</td>\n",
       "      <td>NaN</td>\n",
       "      <td>NaN</td>\n",
       "      <td>NaN</td>\n",
       "      <td>0.0</td>\n",
       "      <td>NaN</td>\n",
       "      <td>NaN</td>\n",
       "      <td>NaN</td>\n",
       "    </tr>\n",
       "    <tr>\n",
       "      <th>9</th>\n",
       "      <td>Armenia</td>\n",
       "      <td>1</td>\n",
       "      <td>Barley</td>\n",
       "      <td>tonnes</td>\n",
       "      <td>NaN</td>\n",
       "      <td>NaN</td>\n",
       "      <td>NaN</td>\n",
       "      <td>NaN</td>\n",
       "      <td>0.0</td>\n",
       "      <td>NaN</td>\n",
       "      <td>...</td>\n",
       "      <td>NaN</td>\n",
       "      <td>NaN</td>\n",
       "      <td>NaN</td>\n",
       "      <td>NaN</td>\n",
       "      <td>NaN</td>\n",
       "      <td>NaN</td>\n",
       "      <td>0.0</td>\n",
       "      <td>NaN</td>\n",
       "      <td>NaN</td>\n",
       "      <td>NaN</td>\n",
       "    </tr>\n",
       "  </tbody>\n",
       "</table>\n",
       "<p>6 rows × 52 columns</p>\n",
       "</div>"
      ],
      "text/plain": [
       "      area  areaCode    item prod_unit  y0__AgriProd  y0__AnnualFeedProd  \\\n",
       "4  Armenia         1  Barley    tonnes           NaN                 NaN   \n",
       "5  Armenia         1  Barley    tonnes           NaN                 NaN   \n",
       "6  Armenia         1  Barley    tonnes           NaN                 NaN   \n",
       "7  Armenia         1  Barley    tonnes           NaN                 NaN   \n",
       "8  Armenia         1  Barley    tonnes           NaN                 NaN   \n",
       "9  Armenia         1  Barley    tonnes           NaN                 NaN   \n",
       "\n",
       "   y0__AnnualFoodProd  y0__AnnualAgriLosses  y0__GDP  y0__GrossAgriVal  ...  \\\n",
       "4                 NaN                   NaN      NaN               NaN  ...   \n",
       "5                 NaN                   NaN      NaN               NaN  ...   \n",
       "6                 NaN                   NaN      NaN               NaN  ...   \n",
       "7                 NaN                   NaN      NaN               NaN  ...   \n",
       "8                 NaN                   NaN      NaN               NaN  ...   \n",
       "9                 NaN                   NaN      0.0               NaN  ...   \n",
       "\n",
       "   y4__Pesticide  y4__Fire  y5__AgriProd  y5__AnnualFeedProd  \\\n",
       "4            NaN       NaN           NaN                 NaN   \n",
       "5            NaN       NaN           NaN                 NaN   \n",
       "6            NaN       NaN           NaN                 NaN   \n",
       "7            NaN       NaN           NaN                 NaN   \n",
       "8            NaN       NaN           NaN                 NaN   \n",
       "9            NaN       NaN           NaN                 NaN   \n",
       "\n",
       "   y5__AnnualFoodProd  y5__AnnualAgriLosses  y5__GDP  y5__GrossAgriVal  \\\n",
       "4                 NaN                   NaN      0.0               NaN   \n",
       "5                 NaN                   NaN      0.0               NaN   \n",
       "6                 NaN                   NaN      0.0               NaN   \n",
       "7                 NaN                   NaN      0.0               NaN   \n",
       "8                 NaN                   NaN      0.0               NaN   \n",
       "9                 NaN                   NaN      0.0               NaN   \n",
       "\n",
       "   y5__Pesticide  y5__Fire  \n",
       "4            NaN       NaN  \n",
       "5            NaN       NaN  \n",
       "6            NaN       NaN  \n",
       "7            NaN       NaN  \n",
       "8            NaN       NaN  \n",
       "9            NaN       NaN  \n",
       "\n",
       "[6 rows x 52 columns]"
      ]
     },
     "execution_count": 4,
     "metadata": {},
     "output_type": "execute_result"
    }
   ],
   "source": [
    "df_json.head(6)"
   ]
  },
  {
   "cell_type": "code",
   "execution_count": 5,
   "id": "879ecc11",
   "metadata": {},
   "outputs": [],
   "source": [
    "# Dealing with NAN values\n",
    "df1 = df_json.fillna(df_json.mean(numeric_only=True))"
   ]
  },
  {
   "cell_type": "code",
   "execution_count": 6,
   "id": "75b90efc",
   "metadata": {},
   "outputs": [
    {
     "data": {
      "text/html": [
       "<div>\n",
       "<style scoped>\n",
       "    .dataframe tbody tr th:only-of-type {\n",
       "        vertical-align: middle;\n",
       "    }\n",
       "\n",
       "    .dataframe tbody tr th {\n",
       "        vertical-align: top;\n",
       "    }\n",
       "\n",
       "    .dataframe thead th {\n",
       "        text-align: right;\n",
       "    }\n",
       "</style>\n",
       "<table border=\"1\" class=\"dataframe\">\n",
       "  <thead>\n",
       "    <tr style=\"text-align: right;\">\n",
       "      <th></th>\n",
       "      <th>area</th>\n",
       "      <th>areaCode</th>\n",
       "      <th>item</th>\n",
       "      <th>prod_unit</th>\n",
       "      <th>y0__AgriProd</th>\n",
       "      <th>y0__AnnualFeedProd</th>\n",
       "      <th>y0__AnnualFoodProd</th>\n",
       "      <th>y0__AnnualAgriLosses</th>\n",
       "      <th>y0__GDP</th>\n",
       "      <th>y0__GrossAgriVal</th>\n",
       "      <th>...</th>\n",
       "      <th>y4__Pesticide</th>\n",
       "      <th>y4__Fire</th>\n",
       "      <th>y5__AgriProd</th>\n",
       "      <th>y5__AnnualFeedProd</th>\n",
       "      <th>y5__AnnualFoodProd</th>\n",
       "      <th>y5__AnnualAgriLosses</th>\n",
       "      <th>y5__GDP</th>\n",
       "      <th>y5__GrossAgriVal</th>\n",
       "      <th>y5__Pesticide</th>\n",
       "      <th>y5__Fire</th>\n",
       "    </tr>\n",
       "  </thead>\n",
       "  <tbody>\n",
       "    <tr>\n",
       "      <th>4</th>\n",
       "      <td>Armenia</td>\n",
       "      <td>1</td>\n",
       "      <td>Barley</td>\n",
       "      <td>tonnes</td>\n",
       "      <td>9.327787e+06</td>\n",
       "      <td>73824.897443</td>\n",
       "      <td>316721.935747</td>\n",
       "      <td>33342.986896</td>\n",
       "      <td>834780.380508</td>\n",
       "      <td>7696.25931</td>\n",
       "      <td>...</td>\n",
       "      <td>68230.625504</td>\n",
       "      <td>3.479493e+07</td>\n",
       "      <td>9.981050e+06</td>\n",
       "      <td>79489.473794</td>\n",
       "      <td>331406.171654</td>\n",
       "      <td>35674.323792</td>\n",
       "      <td>0.0</td>\n",
       "      <td>9945.248905</td>\n",
       "      <td>68632.584276</td>\n",
       "      <td>3.465965e+07</td>\n",
       "    </tr>\n",
       "    <tr>\n",
       "      <th>5</th>\n",
       "      <td>Armenia</td>\n",
       "      <td>1</td>\n",
       "      <td>Barley</td>\n",
       "      <td>tonnes</td>\n",
       "      <td>9.327787e+06</td>\n",
       "      <td>73824.897443</td>\n",
       "      <td>316721.935747</td>\n",
       "      <td>33342.986896</td>\n",
       "      <td>834780.380508</td>\n",
       "      <td>7696.25931</td>\n",
       "      <td>...</td>\n",
       "      <td>68230.625504</td>\n",
       "      <td>3.479493e+07</td>\n",
       "      <td>9.981050e+06</td>\n",
       "      <td>79489.473794</td>\n",
       "      <td>331406.171654</td>\n",
       "      <td>35674.323792</td>\n",
       "      <td>0.0</td>\n",
       "      <td>9945.248905</td>\n",
       "      <td>68632.584276</td>\n",
       "      <td>3.465965e+07</td>\n",
       "    </tr>\n",
       "    <tr>\n",
       "      <th>6</th>\n",
       "      <td>Armenia</td>\n",
       "      <td>1</td>\n",
       "      <td>Barley</td>\n",
       "      <td>tonnes</td>\n",
       "      <td>9.327787e+06</td>\n",
       "      <td>73824.897443</td>\n",
       "      <td>316721.935747</td>\n",
       "      <td>33342.986896</td>\n",
       "      <td>834780.380508</td>\n",
       "      <td>7696.25931</td>\n",
       "      <td>...</td>\n",
       "      <td>68230.625504</td>\n",
       "      <td>3.479493e+07</td>\n",
       "      <td>9.981050e+06</td>\n",
       "      <td>79489.473794</td>\n",
       "      <td>331406.171654</td>\n",
       "      <td>35674.323792</td>\n",
       "      <td>0.0</td>\n",
       "      <td>9945.248905</td>\n",
       "      <td>68632.584276</td>\n",
       "      <td>3.465965e+07</td>\n",
       "    </tr>\n",
       "    <tr>\n",
       "      <th>7</th>\n",
       "      <td>Armenia</td>\n",
       "      <td>1</td>\n",
       "      <td>Barley</td>\n",
       "      <td>tonnes</td>\n",
       "      <td>9.327787e+06</td>\n",
       "      <td>73824.897443</td>\n",
       "      <td>316721.935747</td>\n",
       "      <td>33342.986896</td>\n",
       "      <td>834780.380508</td>\n",
       "      <td>7696.25931</td>\n",
       "      <td>...</td>\n",
       "      <td>68230.625504</td>\n",
       "      <td>3.479493e+07</td>\n",
       "      <td>9.981050e+06</td>\n",
       "      <td>79489.473794</td>\n",
       "      <td>331406.171654</td>\n",
       "      <td>35674.323792</td>\n",
       "      <td>0.0</td>\n",
       "      <td>9945.248905</td>\n",
       "      <td>68632.584276</td>\n",
       "      <td>3.465965e+07</td>\n",
       "    </tr>\n",
       "    <tr>\n",
       "      <th>8</th>\n",
       "      <td>Armenia</td>\n",
       "      <td>1</td>\n",
       "      <td>Barley</td>\n",
       "      <td>tonnes</td>\n",
       "      <td>9.327787e+06</td>\n",
       "      <td>73824.897443</td>\n",
       "      <td>316721.935747</td>\n",
       "      <td>33342.986896</td>\n",
       "      <td>834780.380508</td>\n",
       "      <td>7696.25931</td>\n",
       "      <td>...</td>\n",
       "      <td>68230.625504</td>\n",
       "      <td>3.479493e+07</td>\n",
       "      <td>9.981050e+06</td>\n",
       "      <td>79489.473794</td>\n",
       "      <td>331406.171654</td>\n",
       "      <td>35674.323792</td>\n",
       "      <td>0.0</td>\n",
       "      <td>9945.248905</td>\n",
       "      <td>68632.584276</td>\n",
       "      <td>3.465965e+07</td>\n",
       "    </tr>\n",
       "    <tr>\n",
       "      <th>9</th>\n",
       "      <td>Armenia</td>\n",
       "      <td>1</td>\n",
       "      <td>Barley</td>\n",
       "      <td>tonnes</td>\n",
       "      <td>9.327787e+06</td>\n",
       "      <td>73824.897443</td>\n",
       "      <td>316721.935747</td>\n",
       "      <td>33342.986896</td>\n",
       "      <td>0.000000</td>\n",
       "      <td>7696.25931</td>\n",
       "      <td>...</td>\n",
       "      <td>68230.625504</td>\n",
       "      <td>3.479493e+07</td>\n",
       "      <td>9.981050e+06</td>\n",
       "      <td>79489.473794</td>\n",
       "      <td>331406.171654</td>\n",
       "      <td>35674.323792</td>\n",
       "      <td>0.0</td>\n",
       "      <td>9945.248905</td>\n",
       "      <td>68632.584276</td>\n",
       "      <td>3.465965e+07</td>\n",
       "    </tr>\n",
       "  </tbody>\n",
       "</table>\n",
       "<p>6 rows × 52 columns</p>\n",
       "</div>"
      ],
      "text/plain": [
       "      area  areaCode    item prod_unit  y0__AgriProd  y0__AnnualFeedProd  \\\n",
       "4  Armenia         1  Barley    tonnes  9.327787e+06        73824.897443   \n",
       "5  Armenia         1  Barley    tonnes  9.327787e+06        73824.897443   \n",
       "6  Armenia         1  Barley    tonnes  9.327787e+06        73824.897443   \n",
       "7  Armenia         1  Barley    tonnes  9.327787e+06        73824.897443   \n",
       "8  Armenia         1  Barley    tonnes  9.327787e+06        73824.897443   \n",
       "9  Armenia         1  Barley    tonnes  9.327787e+06        73824.897443   \n",
       "\n",
       "   y0__AnnualFoodProd  y0__AnnualAgriLosses        y0__GDP  y0__GrossAgriVal  \\\n",
       "4       316721.935747          33342.986896  834780.380508        7696.25931   \n",
       "5       316721.935747          33342.986896  834780.380508        7696.25931   \n",
       "6       316721.935747          33342.986896  834780.380508        7696.25931   \n",
       "7       316721.935747          33342.986896  834780.380508        7696.25931   \n",
       "8       316721.935747          33342.986896  834780.380508        7696.25931   \n",
       "9       316721.935747          33342.986896       0.000000        7696.25931   \n",
       "\n",
       "   ...  y4__Pesticide      y4__Fire  y5__AgriProd  y5__AnnualFeedProd  \\\n",
       "4  ...   68230.625504  3.479493e+07  9.981050e+06        79489.473794   \n",
       "5  ...   68230.625504  3.479493e+07  9.981050e+06        79489.473794   \n",
       "6  ...   68230.625504  3.479493e+07  9.981050e+06        79489.473794   \n",
       "7  ...   68230.625504  3.479493e+07  9.981050e+06        79489.473794   \n",
       "8  ...   68230.625504  3.479493e+07  9.981050e+06        79489.473794   \n",
       "9  ...   68230.625504  3.479493e+07  9.981050e+06        79489.473794   \n",
       "\n",
       "   y5__AnnualFoodProd  y5__AnnualAgriLosses  y5__GDP  y5__GrossAgriVal  \\\n",
       "4       331406.171654          35674.323792      0.0       9945.248905   \n",
       "5       331406.171654          35674.323792      0.0       9945.248905   \n",
       "6       331406.171654          35674.323792      0.0       9945.248905   \n",
       "7       331406.171654          35674.323792      0.0       9945.248905   \n",
       "8       331406.171654          35674.323792      0.0       9945.248905   \n",
       "9       331406.171654          35674.323792      0.0       9945.248905   \n",
       "\n",
       "   y5__Pesticide      y5__Fire  \n",
       "4   68632.584276  3.465965e+07  \n",
       "5   68632.584276  3.465965e+07  \n",
       "6   68632.584276  3.465965e+07  \n",
       "7   68632.584276  3.465965e+07  \n",
       "8   68632.584276  3.465965e+07  \n",
       "9   68632.584276  3.465965e+07  \n",
       "\n",
       "[6 rows x 52 columns]"
      ]
     },
     "execution_count": 6,
     "metadata": {},
     "output_type": "execute_result"
    }
   ],
   "source": [
    "df1.head(6)"
   ]
  },
  {
   "cell_type": "code",
   "execution_count": 7,
   "id": "cacd1651",
   "metadata": {},
   "outputs": [
    {
     "name": "stdout",
     "output_type": "stream",
     "text": [
      "Categorical variables = ['item', 'prod_unit']\n",
      "\n",
      "Real variables = ['areaCode', 'y0__AgriProd', 'y0__AnnualFeedProd', 'y0__AnnualFoodProd', 'y0__AnnualAgriLosses', 'y0__GDP', 'y0__GrossAgriVal', 'y0__Pesticide', 'y0__Fire', 'y1__AgriProd', 'y1__AnnualFeedProd', 'y1__AnnualFoodProd', 'y1__AnnualAgriLosses', 'y1__GDP', 'y1__GrossAgriVal', 'y1__Pesticide', 'y1__Fire', 'y2__AgriProd', 'y2__AnnualFeedProd', 'y2__AnnualFoodProd', 'y2__AnnualAgriLosses', 'y2__GDP', 'y2__GrossAgriVal', 'y2__Pesticide', 'y2__Fire', 'y3__AgriProd', 'y3__AnnualFeedProd', 'y3__AnnualFoodProd', 'y3__AnnualAgriLosses', 'y3__GDP', 'y3__GrossAgriVal', 'y3__Pesticide', 'y3__Fire', 'y4__AgriProd', 'y4__AnnualFeedProd', 'y4__AnnualFoodProd', 'y4__AnnualAgriLosses', 'y4__GDP', 'y4__GrossAgriVal', 'y4__Pesticide', 'y4__Fire']\n"
     ]
    }
   ],
   "source": [
    "ignore_vars = ['y5__AgriProd','area', 'y5__AnnualFeedProd', 'y5__AnnualFoodProd', 'y5__AnnualAgriLosses','y5__GDP', 'y5__GrossAgriVal', 'y5__Pesticide', 'y5__Fire' ]\n",
    "\n",
    "# Find real and categorical variables\n",
    "cols = df1.columns\n",
    "cat_vars = []\n",
    "real_vars = []\n",
    "\n",
    "for col in cols:\n",
    "    \n",
    "    if not (col in ignore_vars):\n",
    "        if df1.dtypes[col]  == 'object':\n",
    "            cat_vars.append(col)\n",
    "        else:\n",
    "            real_vars.append(col)\n",
    "                \n",
    "print('Categorical variables = ' + str(cat_vars))\n",
    "print('')\n",
    "print('Real variables = ' + str(real_vars))"
   ]
  },
  {
   "cell_type": "code",
   "execution_count": 8,
   "id": "8965cda7",
   "metadata": {},
   "outputs": [],
   "source": [
    "df_real = df1[real_vars]\n",
    "df_cat = df1[cat_vars]\n",
    "\n",
    "# One-hot encode the categorical variables\n",
    "df_cat_enc = pd.get_dummies(df_cat, drop_first=True)"
   ]
  },
  {
   "cell_type": "code",
   "execution_count": 9,
   "id": "37c53ab1",
   "metadata": {},
   "outputs": [
    {
     "name": "stdout",
     "output_type": "stream",
     "text": [
      "(105873, 53)\n"
     ]
    }
   ],
   "source": [
    "df_enc = pd.concat((df_real, df_cat_enc), axis=1)\n",
    "X = np.array(df_enc)\n",
    "print(X.shape)\n",
    "\n",
    "xnames = df_enc.columns"
   ]
  },
  {
   "cell_type": "code",
   "execution_count": 10,
   "id": "324b8929",
   "metadata": {},
   "outputs": [],
   "source": [
    "y = np.array(df1['y5__AgriProd'])"
   ]
  },
  {
   "cell_type": "code",
   "execution_count": 11,
   "id": "9dcfdf2b",
   "metadata": {},
   "outputs": [],
   "source": [
    "# splitting data into test and train\n",
    "Xtr, Xts, ytr, yts = train_test_split(X,y,test_size=0.3)"
   ]
  },
  {
   "cell_type": "code",
   "execution_count": 12,
   "id": "cefe66e8",
   "metadata": {},
   "outputs": [],
   "source": [
    "# Creating scaler objects\n",
    "xscal = StandardScaler()\n",
    "yscal = StandardScaler()\n",
    "\n",
    "# Fit and transform  training data\n",
    "Xtr1 = xscal.fit_transform(Xtr)\n",
    "ytr1 = yscal.fit_transform(ytr[:,None])\n",
    "\n",
    "# Transform  test data\n",
    "Xts1 = xscal.transform(Xts)\n",
    "yts1 = yscal.transform(yts[:,None])"
   ]
  },
  {
   "cell_type": "markdown",
   "id": "d6d0a46b",
   "metadata": {},
   "source": [
    "# Linear Regression"
   ]
  },
  {
   "cell_type": "code",
   "execution_count": 13,
   "id": "416621ae",
   "metadata": {},
   "outputs": [
    {
     "name": "stdout",
     "output_type": "stream",
     "text": [
      "Training R^2 =   9.9693e-01\n",
      "Test R^2     =   9.9688e-01\n"
     ]
    }
   ],
   "source": [
    "# Linear Regression\n",
    "reg = LinearRegression()\n",
    "reg.fit(Xtr1, ytr1)\n",
    "\n",
    "# Training \n",
    "yhat_tr = reg.predict(Xtr1)\n",
    "rsq_tr = r2_score(yhat_tr, ytr1)\n",
    "print('Training R^2 = %12.4e' % rsq_tr)\n",
    "\n",
    "# Test\n",
    "yhat_ts = reg.predict(Xts1)\n",
    "rsq_ts = r2_score(yts1, yhat_ts)\n",
    "print('Test R^2     = %12.4e' % rsq_ts)"
   ]
  },
  {
   "cell_type": "markdown",
   "id": "06939cb2",
   "metadata": {},
   "source": [
    "# Ridge Regression"
   ]
  },
  {
   "cell_type": "code",
   "execution_count": 14,
   "id": "36730522",
   "metadata": {},
   "outputs": [
    {
     "name": "stdout",
     "output_type": "stream",
     "text": [
      "Test R^2     = 0.996882\n"
     ]
    }
   ],
   "source": [
    "reg = Ridge(alpha=1e-5)\n",
    "reg.fit(Xtr1, ytr1)\n",
    "yhat1 = reg.predict(Xts1)\n",
    "rsq = r2_score(yts1, yhat1)\n",
    "print('Test R^2     = %f' % rsq)"
   ]
  },
  {
   "cell_type": "markdown",
   "id": "59a3413f",
   "metadata": {},
   "source": [
    "# Lasso Regression"
   ]
  },
  {
   "cell_type": "code",
   "execution_count": 15,
   "id": "2d855c89",
   "metadata": {},
   "outputs": [
    {
     "name": "stdout",
     "output_type": "stream",
     "text": [
      "Test R^2= 0.996714\n"
     ]
    }
   ],
   "source": [
    "simplefilter(\"ignore\", category=ConvergenceWarning)\n",
    "\n",
    "# Select alpha\n",
    "alpha = 3e-3\n",
    "\n",
    "# Create Lasso object and fit on training data\n",
    "reg = Lasso(alpha=alpha)\n",
    "reg.fit(Xtr1, ytr1)\n",
    "\n",
    "# Predict and score on test\n",
    "yhat = reg.predict(Xts1)\n",
    "rsq = r2_score(yts1, yhat)\n",
    "\n",
    "print('Test R^2= %f' % rsq)"
   ]
  },
  {
   "cell_type": "markdown",
   "id": "fc3ee0ff",
   "metadata": {},
   "source": [
    "# Neural Network"
   ]
  },
  {
   "cell_type": "code",
   "execution_count": 16,
   "id": "49c37361",
   "metadata": {},
   "outputs": [],
   "source": [
    "\n",
    "nin = Xtr.shape[1]  # dimension of input data\n",
    "nh = 256   # number of hidden units\n",
    "nout = 1  \n",
    "model = Sequential()\n",
    "model.add(Dense(units=nh, input_shape=(nin,),kernel_initializer='normal',activation='relu', name='hidden'))\n",
    "model.add(Dense(units=20,kernel_initializer='normal' ,activation='tanh'))\n",
    "model.add(Dense(units=1,kernel_initializer='normal' ,name='output', activation ='linear'))\n"
   ]
  },
  {
   "cell_type": "code",
   "execution_count": 17,
   "id": "85976b35",
   "metadata": {},
   "outputs": [
    {
     "name": "stdout",
     "output_type": "stream",
     "text": [
      "Model: \"sequential\"\n",
      "_________________________________________________________________\n",
      " Layer (type)                Output Shape              Param #   \n",
      "=================================================================\n",
      " hidden (Dense)              (None, 256)               13824     \n",
      "                                                                 \n",
      " dense (Dense)               (None, 20)                5140      \n",
      "                                                                 \n",
      " output (Dense)              (None, 1)                 21        \n",
      "                                                                 \n",
      "=================================================================\n",
      "Total params: 18,985\n",
      "Trainable params: 18,985\n",
      "Non-trainable params: 0\n",
      "_________________________________________________________________\n"
     ]
    }
   ],
   "source": [
    "model.summary()"
   ]
  },
  {
   "cell_type": "code",
   "execution_count": 18,
   "id": "5ebea2e9",
   "metadata": {},
   "outputs": [],
   "source": [
    "opt = optimizers.Adam(learning_rate=0.001)\n",
    "model.compile(optimizer=opt,\n",
    "              loss='mean_squared_error'\n",
    "             )"
   ]
  },
  {
   "cell_type": "code",
   "execution_count": 19,
   "id": "6b092666",
   "metadata": {},
   "outputs": [
    {
     "name": "stdout",
     "output_type": "stream",
     "text": [
      "Epoch 1/10\n",
      "742/742 [==============================] - 7s 6ms/step - loss: 0.4736 - val_loss: 0.3544\n",
      "Epoch 2/10\n",
      "742/742 [==============================] - 3s 5ms/step - loss: 0.2468 - val_loss: 0.2394\n",
      "Epoch 3/10\n",
      "742/742 [==============================] - 3s 5ms/step - loss: 0.1691 - val_loss: 0.1964\n",
      "Epoch 4/10\n",
      "742/742 [==============================] - 3s 4ms/step - loss: 0.1449 - val_loss: 0.1777\n",
      "Epoch 5/10\n",
      "742/742 [==============================] - 3s 4ms/step - loss: 0.1266 - val_loss: 0.1602\n",
      "Epoch 6/10\n",
      "742/742 [==============================] - 3s 4ms/step - loss: 0.1193 - val_loss: 0.2159\n",
      "Epoch 7/10\n",
      "742/742 [==============================] - 4s 5ms/step - loss: 0.1229 - val_loss: 0.1276\n",
      "Epoch 8/10\n",
      "742/742 [==============================] - 3s 5ms/step - loss: 0.0996 - val_loss: 0.1313\n",
      "Epoch 9/10\n",
      "742/742 [==============================] - 3s 5ms/step - loss: 0.0876 - val_loss: 0.1179\n",
      "Epoch 10/10\n",
      "742/742 [==============================] - 3s 5ms/step - loss: 0.0793 - val_loss: 0.1043\n"
     ]
    }
   ],
   "source": [
    "hist = model.fit(Xtr1, ytr1, epochs=10, batch_size=100, validation_data=(Xts1,yts1))"
   ]
  },
  {
   "cell_type": "code",
   "execution_count": 20,
   "id": "e02af6b9",
   "metadata": {},
   "outputs": [
    {
     "data": {
      "text/plain": [
       "Text(0, 0.5, 'loss')"
      ]
     },
     "execution_count": 20,
     "metadata": {},
     "output_type": "execute_result"
    },
    {
     "data": {
      "image/png": "[encoded data removed]",
      "text/plain": [
       "<Figure size 432x288 with 1 Axes>"
      ]
     },
     "metadata": {
      "needs_background": "light"
     },
     "output_type": "display_data"
    }
   ],
   "source": [
    "tr_accuracy = hist.history['loss']\n",
    "\n",
    "\n",
    "plt.plot(tr_accuracy)\n",
    "plt.grid()\n",
    "plt.xlabel('epochs')\n",
    "plt.ylabel('loss')\n"
   ]
  },
  {
   "cell_type": "markdown",
   "id": "0e5c28e1",
   "metadata": {},
   "source": [
    "# Random Forest Regressor"
   ]
  },
  {
   "cell_type": "code",
   "execution_count": 30,
   "id": "b146ac4e",
   "metadata": {},
   "outputs": [
    {
     "name": "stdout",
     "output_type": "stream",
     "text": [
      "Random forest r2 score =  0.997457679842182\n"
     ]
    }
   ],
   "source": [
    "model = RandomForestRegressor()\n",
    "model.fit(Xtr1,ytr1.ravel())\n",
    "\n",
    "# Get the mean absolute error on the validation data\n",
    "yhat = model.predict(Xts1)\n",
    "r2 = r2_score(yts1, yhat)\n",
    "print('Random forest r2 score = ', r2)"
   ]
  },
  {
   "cell_type": "markdown",
   "id": "2c53faef",
   "metadata": {},
   "source": [
    "# XG Boost"
   ]
  },
  {
   "cell_type": "code",
   "execution_count": 32,
   "id": "344a13b8",
   "metadata": {},
   "outputs": [
    {
     "name": "stdout",
     "output_type": "stream",
     "text": [
      "XGBoost  r2_Score =  0.9968221312121717\n"
     ]
    }
   ],
   "source": [
    "XGBModel = xg.XGBRegressor()\n",
    "XGBModel.fit(Xtr1,ytr1 , verbose=False)\n",
    "\n",
    "# Get the mean absolute error on the validation data :\n",
    "yhat = XGBModel.predict(Xts1)\n",
    "r2 = r2_score(yts1 , yhat)\n",
    "print('XGBoost  r2_Score = ',r2)"
   ]
  },
  {
   "cell_type": "markdown",
   "id": "934305b9",
   "metadata": {},
   "source": [
    "# SVR"
   ]
  },
  {
   "cell_type": "code",
   "execution_count": 23,
   "id": "71395854",
   "metadata": {},
   "outputs": [
    {
     "name": "stdout",
     "output_type": "stream",
     "text": [
      "Test R^2     =   5.9892e-01\n"
     ]
    }
   ],
   "source": [
    "regressor = SVR(kernel = 'rbf')\n",
    "regressor.fit(Xtr1, ytr1.ravel())\n",
    "yhat = regressor.predict(Xts1)\n",
    "\n",
    "rsq_ts = r2_score(yts1, yhat)\n",
    "print('Test R^2     = %12.4e' % rsq_ts)"
   ]
  },
  {
   "cell_type": "markdown",
   "id": "327875dc",
   "metadata": {},
   "source": [
    "# Ablation"
   ]
  },
  {
   "cell_type": "code",
   "execution_count": 24,
   "id": "cd97844f",
   "metadata": {},
   "outputs": [
    {
     "name": "stdout",
     "output_type": "stream",
     "text": [
      "Categorical variables = ['item', 'prod_unit']\n",
      "\n",
      "Real variables = ['y0__AgriProd', 'y0__AnnualFeedProd', 'y0__AnnualFoodProd', 'y0__AnnualAgriLosses', 'y0__GDP', 'y0__GrossAgriVal', 'y0__Pesticide', 'y0__Fire', 'y1__AgriProd', 'y1__AnnualFeedProd', 'y1__AnnualFoodProd', 'y1__AnnualAgriLosses', 'y1__GDP', 'y1__GrossAgriVal', 'y1__Pesticide', 'y1__Fire', 'y2__AgriProd', 'y2__AnnualFeedProd', 'y2__AnnualFoodProd', 'y2__AnnualAgriLosses', 'y2__GDP', 'y2__GrossAgriVal', 'y2__Pesticide', 'y2__Fire', 'y3__AgriProd', 'y3__AnnualFeedProd', 'y3__AnnualFoodProd', 'y3__AnnualAgriLosses', 'y3__GDP', 'y3__GrossAgriVal', 'y3__Pesticide', 'y3__Fire', 'y4__AgriProd', 'y4__AnnualFeedProd', 'y4__AnnualFoodProd', 'y4__AnnualAgriLosses', 'y4__GDP', 'y4__GrossAgriVal', 'y4__Pesticide', 'y4__Fire']\n"
     ]
    }
   ],
   "source": [
    "ignore_vars = ['y5__AgriProd','area','areaCode' ,'y5__AnnualFeedProd', 'y5__AnnualFoodProd', 'y5__AnnualAgriLosses','y5__GDP', 'y5__GrossAgriVal', 'y5__Pesticide', 'y5__Fire' ]\n",
    "\n",
    "# Find real and categorical variables\n",
    "cols = df1.columns\n",
    "cat_vars = []\n",
    "real_vars = []\n",
    "\n",
    "for col in cols:\n",
    "    \n",
    "    if not (col in ignore_vars):\n",
    "        if df1.dtypes[col]  == 'object':\n",
    "            cat_vars.append(col)\n",
    "        else:\n",
    "            real_vars.append(col)\n",
    "                \n",
    "print('Categorical variables = ' + str(cat_vars))\n",
    "print('')\n",
    "print('Real variables = ' + str(real_vars))\n",
    "\n",
    "df_real = df1[real_vars]\n",
    "df_cat = df1[cat_vars]\n",
    "\n",
    "# One-hot encode the categorical variables\n",
    "df_cat_enc = pd.get_dummies(df_cat, drop_first=True)\n",
    "                            \n",
    "\n",
    "df_enc = pd.concat((df_real, df_cat_enc), axis=1)\n",
    "X = np.array(df_enc)\n",
    "\n",
    "y = np.array(df1['y5__AgriProd'])\n"
   ]
  },
  {
   "cell_type": "code",
   "execution_count": 25,
   "id": "64a95be4",
   "metadata": {},
   "outputs": [],
   "source": [
    "Xtr, Xts, ytr, yts = train_test_split(X,y,test_size=0.3)\n"
   ]
  },
  {
   "cell_type": "code",
   "execution_count": 26,
   "id": "e2201397",
   "metadata": {},
   "outputs": [],
   "source": [
    "# Create the scaler objects\n",
    "xscal = StandardScaler()\n",
    "yscal = StandardScaler()\n",
    "\n",
    "# Fit and transform the training data\n",
    "Xtr1 = xscal.fit_transform(Xtr)\n",
    "ytr1 = yscal.fit_transform(ytr[:,None])\n",
    "\n",
    "# Transform the test data\n",
    "Xts1 = xscal.transform(Xts)\n",
    "yts1 = yscal.transform(yts[:,None])"
   ]
  },
  {
   "cell_type": "markdown",
   "id": "871a8301",
   "metadata": {},
   "source": [
    "# Linear Regression with Ablation"
   ]
  },
  {
   "cell_type": "code",
   "execution_count": 27,
   "id": "6608fb16",
   "metadata": {},
   "outputs": [
    {
     "name": "stdout",
     "output_type": "stream",
     "text": [
      "Training R^2 =   9.9669e-01\n",
      "Test R^2     =   9.9732e-01\n"
     ]
    }
   ],
   "source": [
    "from sklearn.linear_model import LinearRegression, Ridge\n",
    "from sklearn.metrics import r2_score\n",
    "\n",
    "# Fit\n",
    "reg_ls = LinearRegression()\n",
    "reg_ls.fit(Xtr1, ytr1)\n",
    "\n",
    "# Training R^2\n",
    "yhat1_tr = reg_ls.predict(Xtr1)\n",
    "rsq_tr = r2_score(yhat1_tr, ytr1)\n",
    "print('Training R^2 = %12.4e' % rsq_tr)\n",
    "\n",
    "# Test R^2\n",
    "yhat1_ts = reg_ls.predict(Xts1)\n",
    "rsq_ts = r2_score(yts1, yhat1_ts)\n",
    "print('Test R^2     = %12.4e' % rsq_ts)"
   ]
  },
  {
   "cell_type": "markdown",
   "id": "73a48623",
   "metadata": {},
   "source": [
    "# Ridge Regression with Ablation"
   ]
  },
  {
   "cell_type": "code",
   "execution_count": 28,
   "id": "5962795a",
   "metadata": {},
   "outputs": [
    {
     "name": "stdout",
     "output_type": "stream",
     "text": [
      "Test R^2     = 0.997325\n"
     ]
    }
   ],
   "source": [
    "reg_ls = Ridge(alpha=1e-5)\n",
    "reg_ls.fit(Xtr1, ytr1)\n",
    "yhat1 = reg_ls.predict(Xts1)\n",
    "rsq = r2_score(yts1, yhat1)\n",
    "print('Test R^2     = %f' % rsq)"
   ]
  },
  {
   "cell_type": "markdown",
   "id": "cddccb1d",
   "metadata": {},
   "source": [
    "# Xg boost with Ablation"
   ]
  },
  {
   "cell_type": "code",
   "execution_count": 31,
   "id": "020168a1",
   "metadata": {},
   "outputs": [
    {
     "name": "stdout",
     "output_type": "stream",
     "text": [
      "XGBoost  r2_score =  0.9968221312121717\n"
     ]
    }
   ],
   "source": [
    "XGBModel = xg.XGBRegressor()\n",
    "XGBModel.fit(Xtr1,ytr1 , verbose=False)\n",
    "\n",
    "# Get the mean absolute error on the validation data :\n",
    "yhat = XGBModel.predict(Xts1)\n",
    "r2 = r2_score(yts1 , yhat)\n",
    "print('XGBoost  r2_score = ',r2)"
   ]
  },
  {
   "cell_type": "code",
   "execution_count": null,
   "id": "f1c9c2c6",
   "metadata": {},
   "outputs": [],
   "source": []
  }
 ],
 "metadata": {
  "kernelspec": {
   "display_name": "Python 3 (ipykernel)",
   "language": "python",
   "name": "python3"
  },
  "language_info": {
   "codemirror_mode": {
    "name": "ipython",
    "version": 3
   },
   "file_extension": ".py",
   "mimetype": "text/x-python",
   "name": "python",
   "nbconvert_exporter": "python",
   "pygments_lexer": "ipython3",
   "version": "3.9.12"
  }
 },
 "nbformat": 4,
 "nbformat_minor": 5
}
