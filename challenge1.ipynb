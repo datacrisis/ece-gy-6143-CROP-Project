{
 "cells": [
  {
   "cell_type": "code",
   "execution_count": 1,
   "id": "df0a8a05",
   "metadata": {},
   "outputs": [],
   "source": [
    "import pandas as pd\n",
    "import numpy as np\n",
    "from sklearn.model_selection import train_test_split\n",
    "from sklearn.preprocessing import StandardScaler\n",
    "from sklearn.linear_model import LinearRegression, Ridge\n",
    "from sklearn.metrics import r2_score\n",
    "\n",
    "from sklearn.linear_model import Lasso\n",
    "from warnings import simplefilter\n",
    "from sklearn.exceptions import ConvergenceWarning\n",
    "\n",
    "import xgboost as xg\n",
    "from sklearn.ensemble import RandomForestRegressor\n",
    "\n",
    "from tensorflow.keras.models import Model, Sequential\n",
    "from tensorflow.keras.layers import Dense, Activation\n",
    "from tensorflow.keras import optimizers\n",
    "import tensorflow.keras.callbacks\n",
    "import tensorflow.keras.backend as K\n",
    "\n",
    "from sklearn.svm import SVR\n",
    "\n",
    "import matplotlib\n",
    "import matplotlib.pyplot as plt\n",
    "from sklearn.model_selection import KFold"
   ]
  },
  {
   "cell_type": "code",
   "execution_count": 2,
   "id": "11f65a59",
   "metadata": {},
   "outputs": [],
   "source": [
    "df_json = pd.read_json(\"new_challenge1_dataset.json\")\n"
   ]
  },
  {
   "cell_type": "code",
   "execution_count": 3,
   "id": "41c5b6d2",
   "metadata": {},
   "outputs": [
    {
     "data": {
      "text/html": [
       "<div>\n",
       "<style scoped>\n",
       "    .dataframe tbody tr th:only-of-type {\n",
       "        vertical-align: middle;\n",
       "    }\n",
       "\n",
       "    .dataframe tbody tr th {\n",
       "        vertical-align: top;\n",
       "    }\n",
       "\n",
       "    .dataframe thead th {\n",
       "        text-align: right;\n",
       "    }\n",
       "</style>\n",
       "<table border=\"1\" class=\"dataframe\">\n",
       "  <thead>\n",
       "    <tr style=\"text-align: right;\">\n",
       "      <th></th>\n",
       "      <th>area</th>\n",
       "      <th>areaCode</th>\n",
       "      <th>item</th>\n",
       "      <th>prod_unit</th>\n",
       "      <th>y0__AgriProd</th>\n",
       "      <th>y0__AnnualFeedProd</th>\n",
       "      <th>y0__AnnualFoodProd</th>\n",
       "      <th>y0__AnnualAgriLosses</th>\n",
       "      <th>y0__GDP</th>\n",
       "      <th>y0__GrossAgriVal</th>\n",
       "      <th>...</th>\n",
       "      <th>y19__Pesticide</th>\n",
       "      <th>y19__Fire</th>\n",
       "      <th>y20__AgriProd</th>\n",
       "      <th>y20__AnnualFeedProd</th>\n",
       "      <th>y20__AnnualFoodProd</th>\n",
       "      <th>y20__AnnualAgriLosses</th>\n",
       "      <th>y20__GDP</th>\n",
       "      <th>y20__GrossAgriVal</th>\n",
       "      <th>y20__Pesticide</th>\n",
       "      <th>y20__Fire</th>\n",
       "    </tr>\n",
       "  </thead>\n",
       "  <tbody>\n",
       "    <tr>\n",
       "      <th>0</th>\n",
       "      <td>Armenia</td>\n",
       "      <td>1</td>\n",
       "      <td>Barley</td>\n",
       "      <td>tonnes</td>\n",
       "      <td>NaN</td>\n",
       "      <td>NaN</td>\n",
       "      <td>NaN</td>\n",
       "      <td>NaN</td>\n",
       "      <td>NaN</td>\n",
       "      <td>NaN</td>\n",
       "      <td>...</td>\n",
       "      <td>NaN</td>\n",
       "      <td>NaN</td>\n",
       "      <td>NaN</td>\n",
       "      <td>NaN</td>\n",
       "      <td>NaN</td>\n",
       "      <td>NaN</td>\n",
       "      <td>0.0</td>\n",
       "      <td>NaN</td>\n",
       "      <td>NaN</td>\n",
       "      <td>NaN</td>\n",
       "    </tr>\n",
       "    <tr>\n",
       "      <th>1</th>\n",
       "      <td>Armenia</td>\n",
       "      <td>1</td>\n",
       "      <td>Barley</td>\n",
       "      <td>tonnes</td>\n",
       "      <td>NaN</td>\n",
       "      <td>NaN</td>\n",
       "      <td>NaN</td>\n",
       "      <td>NaN</td>\n",
       "      <td>NaN</td>\n",
       "      <td>NaN</td>\n",
       "      <td>...</td>\n",
       "      <td>NaN</td>\n",
       "      <td>NaN</td>\n",
       "      <td>NaN</td>\n",
       "      <td>NaN</td>\n",
       "      <td>NaN</td>\n",
       "      <td>NaN</td>\n",
       "      <td>0.0</td>\n",
       "      <td>NaN</td>\n",
       "      <td>NaN</td>\n",
       "      <td>NaN</td>\n",
       "    </tr>\n",
       "    <tr>\n",
       "      <th>2</th>\n",
       "      <td>Armenia</td>\n",
       "      <td>1</td>\n",
       "      <td>Barley</td>\n",
       "      <td>tonnes</td>\n",
       "      <td>NaN</td>\n",
       "      <td>NaN</td>\n",
       "      <td>NaN</td>\n",
       "      <td>NaN</td>\n",
       "      <td>NaN</td>\n",
       "      <td>NaN</td>\n",
       "      <td>...</td>\n",
       "      <td>NaN</td>\n",
       "      <td>NaN</td>\n",
       "      <td>NaN</td>\n",
       "      <td>NaN</td>\n",
       "      <td>NaN</td>\n",
       "      <td>NaN</td>\n",
       "      <td>0.0</td>\n",
       "      <td>NaN</td>\n",
       "      <td>NaN</td>\n",
       "      <td>NaN</td>\n",
       "    </tr>\n",
       "    <tr>\n",
       "      <th>3</th>\n",
       "      <td>Armenia</td>\n",
       "      <td>1</td>\n",
       "      <td>Barley</td>\n",
       "      <td>tonnes</td>\n",
       "      <td>NaN</td>\n",
       "      <td>NaN</td>\n",
       "      <td>NaN</td>\n",
       "      <td>NaN</td>\n",
       "      <td>NaN</td>\n",
       "      <td>NaN</td>\n",
       "      <td>...</td>\n",
       "      <td>NaN</td>\n",
       "      <td>NaN</td>\n",
       "      <td>NaN</td>\n",
       "      <td>NaN</td>\n",
       "      <td>NaN</td>\n",
       "      <td>NaN</td>\n",
       "      <td>0.0</td>\n",
       "      <td>NaN</td>\n",
       "      <td>NaN</td>\n",
       "      <td>NaN</td>\n",
       "    </tr>\n",
       "    <tr>\n",
       "      <th>4</th>\n",
       "      <td>Armenia</td>\n",
       "      <td>1</td>\n",
       "      <td>Barley</td>\n",
       "      <td>tonnes</td>\n",
       "      <td>NaN</td>\n",
       "      <td>NaN</td>\n",
       "      <td>NaN</td>\n",
       "      <td>NaN</td>\n",
       "      <td>NaN</td>\n",
       "      <td>NaN</td>\n",
       "      <td>...</td>\n",
       "      <td>NaN</td>\n",
       "      <td>NaN</td>\n",
       "      <td>NaN</td>\n",
       "      <td>NaN</td>\n",
       "      <td>NaN</td>\n",
       "      <td>NaN</td>\n",
       "      <td>0.0</td>\n",
       "      <td>NaN</td>\n",
       "      <td>NaN</td>\n",
       "      <td>NaN</td>\n",
       "    </tr>\n",
       "    <tr>\n",
       "      <th>5</th>\n",
       "      <td>Armenia</td>\n",
       "      <td>1</td>\n",
       "      <td>Barley</td>\n",
       "      <td>tonnes</td>\n",
       "      <td>NaN</td>\n",
       "      <td>NaN</td>\n",
       "      <td>NaN</td>\n",
       "      <td>NaN</td>\n",
       "      <td>NaN</td>\n",
       "      <td>NaN</td>\n",
       "      <td>...</td>\n",
       "      <td>NaN</td>\n",
       "      <td>NaN</td>\n",
       "      <td>NaN</td>\n",
       "      <td>NaN</td>\n",
       "      <td>NaN</td>\n",
       "      <td>NaN</td>\n",
       "      <td>0.0</td>\n",
       "      <td>NaN</td>\n",
       "      <td>NaN</td>\n",
       "      <td>NaN</td>\n",
       "    </tr>\n",
       "  </tbody>\n",
       "</table>\n",
       "<p>6 rows × 172 columns</p>\n",
       "</div>"
      ],
      "text/plain": [
       "      area  areaCode    item prod_unit  y0__AgriProd  y0__AnnualFeedProd  \\\n",
       "0  Armenia         1  Barley    tonnes           NaN                 NaN   \n",
       "1  Armenia         1  Barley    tonnes           NaN                 NaN   \n",
       "2  Armenia         1  Barley    tonnes           NaN                 NaN   \n",
       "3  Armenia         1  Barley    tonnes           NaN                 NaN   \n",
       "4  Armenia         1  Barley    tonnes           NaN                 NaN   \n",
       "5  Armenia         1  Barley    tonnes           NaN                 NaN   \n",
       "\n",
       "   y0__AnnualFoodProd  y0__AnnualAgriLosses  y0__GDP  y0__GrossAgriVal  ...  \\\n",
       "0                 NaN                   NaN      NaN               NaN  ...   \n",
       "1                 NaN                   NaN      NaN               NaN  ...   \n",
       "2                 NaN                   NaN      NaN               NaN  ...   \n",
       "3                 NaN                   NaN      NaN               NaN  ...   \n",
       "4                 NaN                   NaN      NaN               NaN  ...   \n",
       "5                 NaN                   NaN      NaN               NaN  ...   \n",
       "\n",
       "   y19__Pesticide  y19__Fire  y20__AgriProd  y20__AnnualFeedProd  \\\n",
       "0             NaN        NaN            NaN                  NaN   \n",
       "1             NaN        NaN            NaN                  NaN   \n",
       "2             NaN        NaN            NaN                  NaN   \n",
       "3             NaN        NaN            NaN                  NaN   \n",
       "4             NaN        NaN            NaN                  NaN   \n",
       "5             NaN        NaN            NaN                  NaN   \n",
       "\n",
       "   y20__AnnualFoodProd  y20__AnnualAgriLosses  y20__GDP  y20__GrossAgriVal  \\\n",
       "0                  NaN                    NaN       0.0                NaN   \n",
       "1                  NaN                    NaN       0.0                NaN   \n",
       "2                  NaN                    NaN       0.0                NaN   \n",
       "3                  NaN                    NaN       0.0                NaN   \n",
       "4                  NaN                    NaN       0.0                NaN   \n",
       "5                  NaN                    NaN       0.0                NaN   \n",
       "\n",
       "   y20__Pesticide  y20__Fire  \n",
       "0             NaN        NaN  \n",
       "1             NaN        NaN  \n",
       "2             NaN        NaN  \n",
       "3             NaN        NaN  \n",
       "4             NaN        NaN  \n",
       "5             NaN        NaN  \n",
       "\n",
       "[6 rows x 172 columns]"
      ]
     },
     "execution_count": 3,
     "metadata": {},
     "output_type": "execute_result"
    }
   ],
   "source": [
    "df_json.head(6)"
   ]
  },
  {
   "cell_type": "code",
   "execution_count": 4,
   "id": "4c9d2808",
   "metadata": {},
   "outputs": [],
   "source": [
    "df1 = df_json.fillna(0)"
   ]
  },
  {
   "cell_type": "code",
   "execution_count": 5,
   "id": "552c0662",
   "metadata": {},
   "outputs": [
    {
     "data": {
      "text/plain": [
       "(78077, 172)"
      ]
     },
     "execution_count": 5,
     "metadata": {},
     "output_type": "execute_result"
    }
   ],
   "source": [
    "df1.shape\n"
   ]
  },
  {
   "cell_type": "code",
   "execution_count": 6,
   "id": "0de3c2bf",
   "metadata": {},
   "outputs": [
    {
     "data": {
      "text/html": [
       "<div>\n",
       "<style scoped>\n",
       "    .dataframe tbody tr th:only-of-type {\n",
       "        vertical-align: middle;\n",
       "    }\n",
       "\n",
       "    .dataframe tbody tr th {\n",
       "        vertical-align: top;\n",
       "    }\n",
       "\n",
       "    .dataframe thead th {\n",
       "        text-align: right;\n",
       "    }\n",
       "</style>\n",
       "<table border=\"1\" class=\"dataframe\">\n",
       "  <thead>\n",
       "    <tr style=\"text-align: right;\">\n",
       "      <th></th>\n",
       "      <th>area</th>\n",
       "      <th>areaCode</th>\n",
       "      <th>item</th>\n",
       "      <th>prod_unit</th>\n",
       "      <th>y0__AgriProd</th>\n",
       "      <th>y0__AnnualFeedProd</th>\n",
       "      <th>y0__AnnualFoodProd</th>\n",
       "      <th>y0__AnnualAgriLosses</th>\n",
       "      <th>y0__GDP</th>\n",
       "      <th>y0__GrossAgriVal</th>\n",
       "      <th>...</th>\n",
       "      <th>y19__Pesticide</th>\n",
       "      <th>y19__Fire</th>\n",
       "      <th>y20__AgriProd</th>\n",
       "      <th>y20__AnnualFeedProd</th>\n",
       "      <th>y20__AnnualFoodProd</th>\n",
       "      <th>y20__AnnualAgriLosses</th>\n",
       "      <th>y20__GDP</th>\n",
       "      <th>y20__GrossAgriVal</th>\n",
       "      <th>y20__Pesticide</th>\n",
       "      <th>y20__Fire</th>\n",
       "    </tr>\n",
       "  </thead>\n",
       "  <tbody>\n",
       "    <tr>\n",
       "      <th>78189</th>\n",
       "      <td>Net Food Importing Developing Countries</td>\n",
       "      <td>5817</td>\n",
       "      <td>Sugar Crops Primary</td>\n",
       "      <td>tonnes</td>\n",
       "      <td>183332000.0</td>\n",
       "      <td>0.0</td>\n",
       "      <td>0.0</td>\n",
       "      <td>0.0</td>\n",
       "      <td>568651.868282</td>\n",
       "      <td>0.0</td>\n",
       "      <td>...</td>\n",
       "      <td>119059.40</td>\n",
       "      <td>6.005377e+08</td>\n",
       "      <td>227067704.0</td>\n",
       "      <td>208904.23</td>\n",
       "      <td>1499651.66</td>\n",
       "      <td>168660.0</td>\n",
       "      <td>2.815302e+06</td>\n",
       "      <td>0.0</td>\n",
       "      <td>121188.48</td>\n",
       "      <td>5.653979e+08</td>\n",
       "    </tr>\n",
       "    <tr>\n",
       "      <th>78190</th>\n",
       "      <td>Net Food Importing Developing Countries</td>\n",
       "      <td>5817</td>\n",
       "      <td>Sugar Crops Primary</td>\n",
       "      <td>tonnes</td>\n",
       "      <td>178318346.0</td>\n",
       "      <td>0.0</td>\n",
       "      <td>0.0</td>\n",
       "      <td>0.0</td>\n",
       "      <td>649708.453238</td>\n",
       "      <td>0.0</td>\n",
       "      <td>...</td>\n",
       "      <td>121188.48</td>\n",
       "      <td>5.653979e+08</td>\n",
       "      <td>229801810.0</td>\n",
       "      <td>221060.70</td>\n",
       "      <td>1532822.73</td>\n",
       "      <td>173915.0</td>\n",
       "      <td>2.772460e+06</td>\n",
       "      <td>0.0</td>\n",
       "      <td>116125.95</td>\n",
       "      <td>5.824192e+08</td>\n",
       "    </tr>\n",
       "    <tr>\n",
       "      <th>78191</th>\n",
       "      <td>Net Food Importing Developing Countries</td>\n",
       "      <td>5817</td>\n",
       "      <td>Sugar Crops Primary</td>\n",
       "      <td>tonnes</td>\n",
       "      <td>189705187.0</td>\n",
       "      <td>0.0</td>\n",
       "      <td>0.0</td>\n",
       "      <td>0.0</td>\n",
       "      <td>670883.891823</td>\n",
       "      <td>0.0</td>\n",
       "      <td>...</td>\n",
       "      <td>116125.95</td>\n",
       "      <td>5.824192e+08</td>\n",
       "      <td>236115966.0</td>\n",
       "      <td>222458.88</td>\n",
       "      <td>1552303.60</td>\n",
       "      <td>171820.0</td>\n",
       "      <td>2.730892e+06</td>\n",
       "      <td>0.0</td>\n",
       "      <td>122964.83</td>\n",
       "      <td>6.040791e+08</td>\n",
       "    </tr>\n",
       "    <tr>\n",
       "      <th>78192</th>\n",
       "      <td>Net Food Importing Developing Countries</td>\n",
       "      <td>5817</td>\n",
       "      <td>Sugar Crops Primary</td>\n",
       "      <td>tonnes</td>\n",
       "      <td>187560988.0</td>\n",
       "      <td>0.0</td>\n",
       "      <td>0.0</td>\n",
       "      <td>0.0</td>\n",
       "      <td>712995.838484</td>\n",
       "      <td>0.0</td>\n",
       "      <td>...</td>\n",
       "      <td>122964.83</td>\n",
       "      <td>6.040791e+08</td>\n",
       "      <td>243195354.0</td>\n",
       "      <td>242429.77</td>\n",
       "      <td>1588981.23</td>\n",
       "      <td>176091.0</td>\n",
       "      <td>2.818740e+06</td>\n",
       "      <td>0.0</td>\n",
       "      <td>131914.29</td>\n",
       "      <td>5.633887e+08</td>\n",
       "    </tr>\n",
       "    <tr>\n",
       "      <th>78193</th>\n",
       "      <td>Net Food Importing Developing Countries</td>\n",
       "      <td>5817</td>\n",
       "      <td>Sugar Crops Primary</td>\n",
       "      <td>tonnes</td>\n",
       "      <td>193457642.0</td>\n",
       "      <td>0.0</td>\n",
       "      <td>0.0</td>\n",
       "      <td>0.0</td>\n",
       "      <td>729759.847652</td>\n",
       "      <td>0.0</td>\n",
       "      <td>...</td>\n",
       "      <td>131914.29</td>\n",
       "      <td>5.633887e+08</td>\n",
       "      <td>223757338.0</td>\n",
       "      <td>222657.77</td>\n",
       "      <td>1636252.23</td>\n",
       "      <td>179679.0</td>\n",
       "      <td>2.854451e+06</td>\n",
       "      <td>0.0</td>\n",
       "      <td>135074.15</td>\n",
       "      <td>5.320478e+08</td>\n",
       "    </tr>\n",
       "    <tr>\n",
       "      <th>78194</th>\n",
       "      <td>Net Food Importing Developing Countries</td>\n",
       "      <td>5817</td>\n",
       "      <td>Sugar Crops Primary</td>\n",
       "      <td>tonnes</td>\n",
       "      <td>197930640.0</td>\n",
       "      <td>0.0</td>\n",
       "      <td>0.0</td>\n",
       "      <td>0.0</td>\n",
       "      <td>744726.635892</td>\n",
       "      <td>0.0</td>\n",
       "      <td>...</td>\n",
       "      <td>135074.15</td>\n",
       "      <td>5.320478e+08</td>\n",
       "      <td>227221525.0</td>\n",
       "      <td>253105.77</td>\n",
       "      <td>1682628.23</td>\n",
       "      <td>182524.0</td>\n",
       "      <td>2.904838e+06</td>\n",
       "      <td>0.0</td>\n",
       "      <td>136387.02</td>\n",
       "      <td>5.174480e+08</td>\n",
       "    </tr>\n",
       "  </tbody>\n",
       "</table>\n",
       "<p>6 rows × 172 columns</p>\n",
       "</div>"
      ],
      "text/plain": [
       "                                          area  areaCode                 item  \\\n",
       "78189  Net Food Importing Developing Countries      5817  Sugar Crops Primary   \n",
       "78190  Net Food Importing Developing Countries      5817  Sugar Crops Primary   \n",
       "78191  Net Food Importing Developing Countries      5817  Sugar Crops Primary   \n",
       "78192  Net Food Importing Developing Countries      5817  Sugar Crops Primary   \n",
       "78193  Net Food Importing Developing Countries      5817  Sugar Crops Primary   \n",
       "78194  Net Food Importing Developing Countries      5817  Sugar Crops Primary   \n",
       "\n",
       "      prod_unit  y0__AgriProd  y0__AnnualFeedProd  y0__AnnualFoodProd  \\\n",
       "78189    tonnes   183332000.0                 0.0                 0.0   \n",
       "78190    tonnes   178318346.0                 0.0                 0.0   \n",
       "78191    tonnes   189705187.0                 0.0                 0.0   \n",
       "78192    tonnes   187560988.0                 0.0                 0.0   \n",
       "78193    tonnes   193457642.0                 0.0                 0.0   \n",
       "78194    tonnes   197930640.0                 0.0                 0.0   \n",
       "\n",
       "       y0__AnnualAgriLosses        y0__GDP  y0__GrossAgriVal  ...  \\\n",
       "78189                   0.0  568651.868282               0.0  ...   \n",
       "78190                   0.0  649708.453238               0.0  ...   \n",
       "78191                   0.0  670883.891823               0.0  ...   \n",
       "78192                   0.0  712995.838484               0.0  ...   \n",
       "78193                   0.0  729759.847652               0.0  ...   \n",
       "78194                   0.0  744726.635892               0.0  ...   \n",
       "\n",
       "       y19__Pesticide     y19__Fire  y20__AgriProd  y20__AnnualFeedProd  \\\n",
       "78189       119059.40  6.005377e+08    227067704.0            208904.23   \n",
       "78190       121188.48  5.653979e+08    229801810.0            221060.70   \n",
       "78191       116125.95  5.824192e+08    236115966.0            222458.88   \n",
       "78192       122964.83  6.040791e+08    243195354.0            242429.77   \n",
       "78193       131914.29  5.633887e+08    223757338.0            222657.77   \n",
       "78194       135074.15  5.320478e+08    227221525.0            253105.77   \n",
       "\n",
       "       y20__AnnualFoodProd  y20__AnnualAgriLosses      y20__GDP  \\\n",
       "78189           1499651.66               168660.0  2.815302e+06   \n",
       "78190           1532822.73               173915.0  2.772460e+06   \n",
       "78191           1552303.60               171820.0  2.730892e+06   \n",
       "78192           1588981.23               176091.0  2.818740e+06   \n",
       "78193           1636252.23               179679.0  2.854451e+06   \n",
       "78194           1682628.23               182524.0  2.904838e+06   \n",
       "\n",
       "       y20__GrossAgriVal  y20__Pesticide     y20__Fire  \n",
       "78189                0.0       121188.48  5.653979e+08  \n",
       "78190                0.0       116125.95  5.824192e+08  \n",
       "78191                0.0       122964.83  6.040791e+08  \n",
       "78192                0.0       131914.29  5.633887e+08  \n",
       "78193                0.0       135074.15  5.320478e+08  \n",
       "78194                0.0       136387.02  5.174480e+08  \n",
       "\n",
       "[6 rows x 172 columns]"
      ]
     },
     "execution_count": 6,
     "metadata": {},
     "output_type": "execute_result"
    }
   ],
   "source": [
    "df1.tail(6)"
   ]
  },
  {
   "cell_type": "code",
   "execution_count": 7,
   "id": "216f8d4e",
   "metadata": {},
   "outputs": [
    {
     "name": "stdout",
     "output_type": "stream",
     "text": [
      "Categorical variables = ['item', 'prod_unit']\n",
      "\n",
      "Real variables = ['areaCode', 'y0__AnnualFeedProd', 'y0__AnnualFoodProd', 'y0__AnnualAgriLosses', 'y0__GDP', 'y0__GrossAgriVal', 'y0__Pesticide', 'y0__Fire', 'y1__AnnualFeedProd', 'y1__AnnualFoodProd', 'y1__AnnualAgriLosses', 'y1__GDP', 'y1__GrossAgriVal', 'y1__Pesticide', 'y1__Fire', 'y2__AnnualFeedProd', 'y2__AnnualFoodProd', 'y2__AnnualAgriLosses', 'y2__GDP', 'y2__GrossAgriVal', 'y2__Pesticide', 'y2__Fire', 'y3__AnnualFeedProd', 'y3__AnnualFoodProd', 'y3__AnnualAgriLosses', 'y3__GDP', 'y3__GrossAgriVal', 'y3__Pesticide', 'y3__Fire', 'y4__AnnualFeedProd', 'y4__AnnualFoodProd', 'y4__AnnualAgriLosses', 'y4__GDP', 'y4__GrossAgriVal', 'y4__Pesticide', 'y4__Fire', 'y5__AnnualFeedProd', 'y5__AnnualFoodProd', 'y5__AnnualAgriLosses', 'y5__GDP', 'y5__GrossAgriVal', 'y5__Pesticide', 'y5__Fire', 'y6__AnnualFeedProd', 'y6__AnnualFoodProd', 'y6__AnnualAgriLosses', 'y6__GDP', 'y6__GrossAgriVal', 'y6__Pesticide', 'y6__Fire', 'y7__AnnualFeedProd', 'y7__AnnualFoodProd', 'y7__AnnualAgriLosses', 'y7__GDP', 'y7__GrossAgriVal', 'y7__Pesticide', 'y7__Fire', 'y8__AnnualFeedProd', 'y8__AnnualFoodProd', 'y8__AnnualAgriLosses', 'y8__GDP', 'y8__GrossAgriVal', 'y8__Pesticide', 'y8__Fire', 'y9__AnnualFeedProd', 'y9__AnnualFoodProd', 'y9__AnnualAgriLosses', 'y9__GDP', 'y9__GrossAgriVal', 'y9__Pesticide', 'y9__Fire', 'y10__AnnualFeedProd', 'y10__AnnualFoodProd', 'y10__AnnualAgriLosses', 'y10__GDP', 'y10__GrossAgriVal', 'y10__Pesticide', 'y10__Fire', 'y11__AnnualFeedProd', 'y11__AnnualFoodProd', 'y11__AnnualAgriLosses', 'y11__GDP', 'y11__GrossAgriVal', 'y11__Pesticide', 'y11__Fire', 'y12__AnnualFeedProd', 'y12__AnnualFoodProd', 'y12__AnnualAgriLosses', 'y12__GDP', 'y12__GrossAgriVal', 'y12__Pesticide', 'y12__Fire', 'y13__AnnualFeedProd', 'y13__AnnualFoodProd', 'y13__AnnualAgriLosses', 'y13__GDP', 'y13__GrossAgriVal', 'y13__Pesticide', 'y13__Fire', 'y14__AnnualFeedProd', 'y14__AnnualFoodProd', 'y14__AnnualAgriLosses', 'y14__GDP', 'y14__GrossAgriVal', 'y14__Pesticide', 'y14__Fire', 'y15__AnnualFeedProd', 'y15__AnnualFoodProd', 'y15__AnnualAgriLosses', 'y15__GDP', 'y15__GrossAgriVal', 'y15__Pesticide', 'y15__Fire', 'y16__AnnualFeedProd', 'y16__AnnualFoodProd', 'y16__AnnualAgriLosses', 'y16__GDP', 'y16__GrossAgriVal', 'y16__Pesticide', 'y16__Fire', 'y17__AnnualFeedProd', 'y17__AnnualFoodProd', 'y17__AnnualAgriLosses', 'y17__GDP', 'y17__GrossAgriVal', 'y17__Pesticide', 'y17__Fire', 'y18__AnnualFeedProd', 'y18__AnnualFoodProd', 'y18__AnnualAgriLosses', 'y18__GDP', 'y18__GrossAgriVal', 'y18__Pesticide', 'y18__Fire', 'y19__AnnualFeedProd', 'y19__AnnualFoodProd', 'y19__AnnualAgriLosses', 'y19__GDP', 'y19__GrossAgriVal', 'y19__Pesticide', 'y19__Fire']\n"
     ]
    }
   ],
   "source": [
    "ignore_vars = ['y20__AgriProd','area', 'y20__AnnualFeedProd', 'y20__AnnualFoodProd', 'y20__AnnualAgriLosses','y20__GDP', 'y20__GrossAgriVal', 'y20__Pesticide', 'y20__Fire', 'y0__AgriProd','y1__AgriProd','y2__AgriProd','y3__AgriProd',\n",
    "               'y4__AgriProd','y5__AgriProd','y6__AgriProd','y7__AgriProd','y8__AgriProd','y9__AgriProd','y10__AgriProd','y11__AgriProd','y12__AgriProd','y13__AgriProd',\n",
    "               'y14__AgriProd','y15__AgriProd','y16__AgriProd','y17__AgriProd','y18__AgriProd','y19__AgriProd' ]\n",
    "\n",
    "# Find real and categorical variables\n",
    "cols = df1.columns\n",
    "cat_vars = []\n",
    "real_vars = []\n",
    "\n",
    "for col in cols:\n",
    "    \n",
    "    if not (col in ignore_vars):\n",
    "        if df1.dtypes[col]  == 'object':\n",
    "            cat_vars.append(col)\n",
    "        else:\n",
    "            real_vars.append(col)\n",
    "                \n",
    "print('Categorical variables = ' + str(cat_vars))\n",
    "print('')\n",
    "print('Real variables = ' + str(real_vars))"
   ]
  },
  {
   "cell_type": "code",
   "execution_count": 8,
   "id": "3fbb1984",
   "metadata": {},
   "outputs": [],
   "source": [
    "df_real = df1[real_vars]\n",
    "df_cat = df1[cat_vars]\n",
    "\n",
    "# One-hot encode the categorical variables\n",
    "df_cat_enc = pd.get_dummies(df_cat, drop_first=True)"
   ]
  },
  {
   "cell_type": "code",
   "execution_count": 9,
   "id": "b539cc07",
   "metadata": {},
   "outputs": [
    {
     "data": {
      "text/html": [
       "<div>\n",
       "<style scoped>\n",
       "    .dataframe tbody tr th:only-of-type {\n",
       "        vertical-align: middle;\n",
       "    }\n",
       "\n",
       "    .dataframe tbody tr th {\n",
       "        vertical-align: top;\n",
       "    }\n",
       "\n",
       "    .dataframe thead th {\n",
       "        text-align: right;\n",
       "    }\n",
       "</style>\n",
       "<table border=\"1\" class=\"dataframe\">\n",
       "  <thead>\n",
       "    <tr style=\"text-align: right;\">\n",
       "      <th></th>\n",
       "      <th>item_Beans, dry</th>\n",
       "      <th>item_Buckwheat</th>\n",
       "      <th>item_Millet</th>\n",
       "      <th>item_Molasses</th>\n",
       "      <th>item_Oats</th>\n",
       "      <th>item_Potatoes</th>\n",
       "      <th>item_Rice</th>\n",
       "      <th>item_Rice, paddy (rice milled equivalent)</th>\n",
       "      <th>item_Rye</th>\n",
       "      <th>item_Sorghum</th>\n",
       "      <th>item_Sugar Crops Primary</th>\n",
       "      <th>item_Wheat</th>\n",
       "    </tr>\n",
       "  </thead>\n",
       "  <tbody>\n",
       "    <tr>\n",
       "      <th>0</th>\n",
       "      <td>0</td>\n",
       "      <td>0</td>\n",
       "      <td>0</td>\n",
       "      <td>0</td>\n",
       "      <td>0</td>\n",
       "      <td>0</td>\n",
       "      <td>0</td>\n",
       "      <td>0</td>\n",
       "      <td>0</td>\n",
       "      <td>0</td>\n",
       "      <td>0</td>\n",
       "      <td>0</td>\n",
       "    </tr>\n",
       "    <tr>\n",
       "      <th>1</th>\n",
       "      <td>0</td>\n",
       "      <td>0</td>\n",
       "      <td>0</td>\n",
       "      <td>0</td>\n",
       "      <td>0</td>\n",
       "      <td>0</td>\n",
       "      <td>0</td>\n",
       "      <td>0</td>\n",
       "      <td>0</td>\n",
       "      <td>0</td>\n",
       "      <td>0</td>\n",
       "      <td>0</td>\n",
       "    </tr>\n",
       "    <tr>\n",
       "      <th>2</th>\n",
       "      <td>0</td>\n",
       "      <td>0</td>\n",
       "      <td>0</td>\n",
       "      <td>0</td>\n",
       "      <td>0</td>\n",
       "      <td>0</td>\n",
       "      <td>0</td>\n",
       "      <td>0</td>\n",
       "      <td>0</td>\n",
       "      <td>0</td>\n",
       "      <td>0</td>\n",
       "      <td>0</td>\n",
       "    </tr>\n",
       "    <tr>\n",
       "      <th>3</th>\n",
       "      <td>0</td>\n",
       "      <td>0</td>\n",
       "      <td>0</td>\n",
       "      <td>0</td>\n",
       "      <td>0</td>\n",
       "      <td>0</td>\n",
       "      <td>0</td>\n",
       "      <td>0</td>\n",
       "      <td>0</td>\n",
       "      <td>0</td>\n",
       "      <td>0</td>\n",
       "      <td>0</td>\n",
       "    </tr>\n",
       "    <tr>\n",
       "      <th>4</th>\n",
       "      <td>0</td>\n",
       "      <td>0</td>\n",
       "      <td>0</td>\n",
       "      <td>0</td>\n",
       "      <td>0</td>\n",
       "      <td>0</td>\n",
       "      <td>0</td>\n",
       "      <td>0</td>\n",
       "      <td>0</td>\n",
       "      <td>0</td>\n",
       "      <td>0</td>\n",
       "      <td>0</td>\n",
       "    </tr>\n",
       "  </tbody>\n",
       "</table>\n",
       "</div>"
      ],
      "text/plain": [
       "   item_Beans, dry  item_Buckwheat  item_Millet  item_Molasses  item_Oats  \\\n",
       "0                0               0            0              0          0   \n",
       "1                0               0            0              0          0   \n",
       "2                0               0            0              0          0   \n",
       "3                0               0            0              0          0   \n",
       "4                0               0            0              0          0   \n",
       "\n",
       "   item_Potatoes  item_Rice  item_Rice, paddy (rice milled equivalent)  \\\n",
       "0              0          0                                          0   \n",
       "1              0          0                                          0   \n",
       "2              0          0                                          0   \n",
       "3              0          0                                          0   \n",
       "4              0          0                                          0   \n",
       "\n",
       "   item_Rye  item_Sorghum  item_Sugar Crops Primary  item_Wheat  \n",
       "0         0             0                         0           0  \n",
       "1         0             0                         0           0  \n",
       "2         0             0                         0           0  \n",
       "3         0             0                         0           0  \n",
       "4         0             0                         0           0  "
      ]
     },
     "execution_count": 9,
     "metadata": {},
     "output_type": "execute_result"
    }
   ],
   "source": [
    "df_cat_enc.head()"
   ]
  },
  {
   "cell_type": "code",
   "execution_count": 10,
   "id": "4a38e915",
   "metadata": {},
   "outputs": [
    {
     "data": {
      "text/plain": [
       "(78077, 12)"
      ]
     },
     "execution_count": 10,
     "metadata": {},
     "output_type": "execute_result"
    }
   ],
   "source": [
    "df_cat_enc.shape"
   ]
  },
  {
   "cell_type": "code",
   "execution_count": 11,
   "id": "f328fe32",
   "metadata": {},
   "outputs": [
    {
     "name": "stdout",
     "output_type": "stream",
     "text": [
      "(78077, 153)\n"
     ]
    }
   ],
   "source": [
    "df_enc = pd.concat((df_real, df_cat_enc), axis=1)\n",
    "X = np.array(df_enc)\n",
    "print(X.shape)\n",
    "\n",
    "xnames = df_enc.columns"
   ]
  },
  {
   "cell_type": "code",
   "execution_count": 12,
   "id": "6780269a",
   "metadata": {},
   "outputs": [],
   "source": [
    "y = np.array(df1['y20__AgriProd'])"
   ]
  },
  {
   "cell_type": "code",
   "execution_count": 13,
   "id": "f7d25e97",
   "metadata": {},
   "outputs": [
    {
     "name": "stdout",
     "output_type": "stream",
     "text": [
      "Index(['areaCode', 'y0__AnnualFeedProd', 'y0__AnnualFoodProd',\n",
      "       'y0__AnnualAgriLosses', 'y0__GDP', 'y0__GrossAgriVal', 'y0__Pesticide',\n",
      "       'y0__Fire', 'y1__AnnualFeedProd', 'y1__AnnualFoodProd'],\n",
      "      dtype='object')\n"
     ]
    }
   ],
   "source": [
    "print(xnames[0:10])"
   ]
  },
  {
   "cell_type": "code",
   "execution_count": 14,
   "id": "8a35bfa5",
   "metadata": {},
   "outputs": [],
   "source": [
    "Xtr, Xts, ytr, yts = train_test_split(X,y,test_size=0.3)"
   ]
  },
  {
   "cell_type": "code",
   "execution_count": 15,
   "id": "be65173d",
   "metadata": {},
   "outputs": [],
   "source": [
    "# Create the scaler objects\n",
    "xscal = StandardScaler()\n",
    "yscal = StandardScaler()\n",
    "\n",
    "# Fit and transform the training data\n",
    "Xtr1 = xscal.fit_transform(Xtr)\n",
    "ytr1 = yscal.fit_transform(ytr[:,None])\n",
    "\n",
    "# Transform the test data\n",
    "Xts1 = xscal.transform(Xts)\n",
    "yts1 = yscal.transform(yts[:,None])"
   ]
  },
  {
   "cell_type": "markdown",
   "id": "59c5fc29",
   "metadata": {},
   "source": [
    "# Linear Regression"
   ]
  },
  {
   "cell_type": "code",
   "execution_count": 16,
   "id": "c9912f70",
   "metadata": {},
   "outputs": [
    {
     "name": "stdout",
     "output_type": "stream",
     "text": [
      "Training R^2 =  -1.5572e+00\n",
      "Test R^2     =   2.3063e-01\n"
     ]
    }
   ],
   "source": [
    "# Fit\n",
    "reg_ls = LinearRegression()\n",
    "reg_ls.fit(Xtr1, ytr1)\n",
    "\n",
    "# Training R^2\n",
    "yhat1_tr = reg_ls.predict(Xtr1)\n",
    "rsq_tr = r2_score(yhat1_tr, ytr1)\n",
    "print('Training R^2 = %12.4e' % rsq_tr)\n",
    "\n",
    "# Test R^2\n",
    "yhat1_ts = reg_ls.predict(Xts1)\n",
    "rsq_ts = r2_score(yts1, yhat1_ts)\n",
    "print('Test R^2     = %12.4e' % rsq_ts)"
   ]
  },
  {
   "cell_type": "markdown",
   "id": "156b2f17",
   "metadata": {},
   "source": [
    "# Ridge Regression"
   ]
  },
  {
   "cell_type": "code",
   "execution_count": 17,
   "id": "5d45053d",
   "metadata": {},
   "outputs": [
    {
     "name": "stdout",
     "output_type": "stream",
     "text": [
      "Test R^2     = 0.230653\n"
     ]
    }
   ],
   "source": [
    "reg_ls = Ridge(alpha=1e-5)\n",
    "reg_ls.fit(Xtr1, ytr1)\n",
    "yhat1 = reg_ls.predict(Xts1)\n",
    "rsq = r2_score(yts1, yhat1)\n",
    "print('Test R^2     = %f' % rsq)"
   ]
  },
  {
   "cell_type": "markdown",
   "id": "3492058d",
   "metadata": {},
   "source": [
    "# Lasso Regression"
   ]
  },
  {
   "cell_type": "code",
   "execution_count": 18,
   "id": "ed596d7a",
   "metadata": {},
   "outputs": [
    {
     "name": "stdout",
     "output_type": "stream",
     "text": [
      "Test R^2= 0.251403\n"
     ]
    }
   ],
   "source": [
    "simplefilter(\"ignore\", category=ConvergenceWarning)\n",
    "\n",
    "# Select alpha\n",
    "alpha = 3e-3\n",
    "\n",
    "# Create Lasso object and fit on training data\n",
    "reg = Lasso(alpha=alpha)\n",
    "reg.fit(Xtr1, ytr1)\n",
    "\n",
    "# Predict and score on test\n",
    "yhat1 = reg.predict(Xts1)\n",
    "rsq = r2_score(yts1, yhat1)\n",
    "\n",
    "print('Test R^2= %f' % rsq)"
   ]
  },
  {
   "cell_type": "markdown",
   "id": "3a64f02b",
   "metadata": {},
   "source": [
    "# Cross Validation for Lasso"
   ]
  },
  {
   "cell_type": "code",
   "execution_count": 19,
   "id": "465d4878",
   "metadata": {},
   "outputs": [
    {
     "name": "stdout",
     "output_type": "stream",
     "text": [
      "Fold = 0\n",
      "Fold = 1\n",
      "Fold = 2\n",
      "Fold = 3\n",
      "Fold = 4\n",
      "Fold = 5\n",
      "Fold = 6\n",
      "Fold = 7\n",
      "Fold = 8\n",
      "Fold = 9\n"
     ]
    }
   ],
   "source": [
    "# Create cross-validation object\n",
    "nfold = 10\n",
    "kf =KFold(nfold, shuffle=True)\n",
    "\n",
    "# Alpha values to test\n",
    "alphas = np.logspace(-6,-1,40)\n",
    "nalpha = len(alphas)\n",
    "\n",
    "# Run the cross-validation\n",
    "rsq = np.zeros((nalpha, nfold))\n",
    "for ifold, ind in enumerate(kf.split(X)):\n",
    "        \n",
    "    # Get the training data in the split\n",
    "    Itr,Its = ind\n",
    "    Xtr = X[Itr,:]\n",
    "    ytr = y[Itr]\n",
    "    Xts = X[Its,:]\n",
    "    yts = y[Its]\n",
    "    \n",
    "    # Fit and transform the data\n",
    "    Xtr1 = xscal.fit_transform(Xtr)\n",
    "    Xts1 = xscal.transform(Xts)\n",
    "    ytr1 = yscal.fit_transform(ytr[:,None])\n",
    "    yts1 = yscal.transform(yts[:,None])\n",
    "\n",
    "    for i, alpha in enumerate(alphas):\n",
    "\n",
    "        # Fit on the training data\n",
    "        reg = Lasso(alpha=alpha)\n",
    "        reg.fit(Xtr1, ytr1)\n",
    "\n",
    "        # Score on the test data\n",
    "        yhat1 = reg.predict(Xts1)\n",
    "        rsq[i, ifold] = r2_score(yts1, yhat1)\n",
    "    \n",
    "    print('Fold = %d' % ifold)\n",
    "    \n",
    "# Compute mean and SE\n",
    "rsq_lasso_mean = np.mean(rsq, axis=1)\n",
    "rsq_lasso_se  = np.std(rsq, axis=1) / np.sqrt(nfold-1)"
   ]
  },
  {
   "cell_type": "code",
   "execution_count": 20,
   "id": "01b41250",
   "metadata": {},
   "outputs": [
    {
     "data": {
      "image/png": "[encoded data removed]",
      "text/plain": [
       "<Figure size 432x288 with 1 Axes>"
      ]
     },
     "metadata": {
      "needs_background": "light"
     },
     "output_type": "display_data"
    }
   ],
   "source": [
    "plt.errorbar(np.log10(alphas), rsq_lasso_mean, yerr=rsq_lasso_se)\n",
    "plt.xlabel('log10(alpha)')\n",
    "plt.ylabel('Test R^2')\n",
    "plt.grid()\n",
    "plt.show()"
   ]
  },
  {
   "cell_type": "code",
   "execution_count": 21,
   "id": "111ec2d5",
   "metadata": {},
   "outputs": [
    {
     "name": "stdout",
     "output_type": "stream",
     "text": [
      "Alpha optimal (normal rule) =   2.8943e-03\n",
      "Mean test R^2 (normal rule) =   0.245\n"
     ]
    }
   ],
   "source": [
    "im = np.argmax(rsq_lasso_mean)\n",
    "alpha_normal = alphas[im]\n",
    "print('Alpha optimal (normal rule) = %12.4e' % alpha_normal)\n",
    "print('Mean test R^2 (normal rule) = %7.3f' % rsq_lasso_mean[im])"
   ]
  },
  {
   "cell_type": "markdown",
   "id": "ca8542b2",
   "metadata": {},
   "source": [
    "# Support Vector Regressor"
   ]
  },
  {
   "cell_type": "code",
   "execution_count": 22,
   "id": "b88f55c7",
   "metadata": {},
   "outputs": [
    {
     "name": "stdout",
     "output_type": "stream",
     "text": [
      "Test R^2     =   2.6877e-01\n"
     ]
    }
   ],
   "source": [
    "regressor = SVR(kernel = 'rbf')\n",
    "regressor.fit(Xtr1, ytr1.ravel())\n",
    "yhat = regressor.predict(Xts1)\n",
    "\n",
    "rsq_ts = r2_score(yts1, yhat)\n",
    "print('Test R^2     = %12.4e' % rsq_ts)"
   ]
  },
  {
   "cell_type": "markdown",
   "id": "7b4f698f",
   "metadata": {},
   "source": [
    "# Neural Networks"
   ]
  },
  {
   "cell_type": "code",
   "execution_count": 23,
   "id": "222062c7",
   "metadata": {},
   "outputs": [],
   "source": [
    "from tensorflow.keras.models import Model, Sequential\n",
    "from tensorflow.keras.layers import Dense, Activation"
   ]
  },
  {
   "cell_type": "code",
   "execution_count": 24,
   "id": "2ecd5265",
   "metadata": {},
   "outputs": [],
   "source": [
    "import tensorflow.keras.backend as K\n",
    "K.clear_session()"
   ]
  },
  {
   "cell_type": "code",
   "execution_count": 25,
   "id": "eec9af51",
   "metadata": {},
   "outputs": [],
   "source": [
    "\n",
    "nin = Xtr.shape[1]  # dimension of input data\n",
    "nh = 256   # number of hidden units\n",
    "nout = 1  \n",
    "model = Sequential()\n",
    "model.add(Dense(units=nh, input_shape=(nin,),kernel_initializer='normal',activation='relu', name='hidden'))\n",
    "model.add(Dense(units=20,kernel_initializer='normal' ,activation='tanh'))\n",
    "model.add(Dense(units=1,kernel_initializer='normal' ,name='output', activation ='linear'))\n"
   ]
  },
  {
   "cell_type": "code",
   "execution_count": 26,
   "id": "46c00512",
   "metadata": {},
   "outputs": [
    {
     "name": "stdout",
     "output_type": "stream",
     "text": [
      "Model: \"sequential\"\n",
      "_________________________________________________________________\n",
      " Layer (type)                Output Shape              Param #   \n",
      "=================================================================\n",
      " hidden (Dense)              (None, 256)               39424     \n",
      "                                                                 \n",
      " dense (Dense)               (None, 20)                5140      \n",
      "                                                                 \n",
      " output (Dense)              (None, 1)                 21        \n",
      "                                                                 \n",
      "=================================================================\n",
      "Total params: 44,585\n",
      "Trainable params: 44,585\n",
      "Non-trainable params: 0\n",
      "_________________________________________________________________\n"
     ]
    }
   ],
   "source": [
    "model.summary()"
   ]
  },
  {
   "cell_type": "code",
   "execution_count": 27,
   "id": "89b5fcf5",
   "metadata": {},
   "outputs": [],
   "source": [
    "from tensorflow.keras import optimizers\n",
    "import tensorflow.keras.callbacks\n",
    "\n",
    "opt = optimizers.Adam(learning_rate=0.001)\n",
    "model.compile(optimizer=opt,\n",
    "              loss='mean_squared_error'\n",
    "             )"
   ]
  },
  {
   "cell_type": "code",
   "execution_count": 28,
   "id": "f2f287d9",
   "metadata": {},
   "outputs": [
    {
     "name": "stdout",
     "output_type": "stream",
     "text": [
      "Epoch 1/10\n",
      "703/703 [==============================] - 4s 3ms/step - loss: 0.7546 - val_loss: 0.3601\n",
      "Epoch 2/10\n",
      "703/703 [==============================] - 2s 3ms/step - loss: 0.6457 - val_loss: 0.3441\n",
      "Epoch 3/10\n",
      "703/703 [==============================] - 2s 3ms/step - loss: 0.5789 - val_loss: 0.2843\n",
      "Epoch 4/10\n",
      "703/703 [==============================] - 2s 3ms/step - loss: 0.5481 - val_loss: 0.3021\n",
      "Epoch 5/10\n",
      "703/703 [==============================] - 2s 3ms/step - loss: 0.4869 - val_loss: 0.3241\n",
      "Epoch 6/10\n",
      "703/703 [==============================] - 2s 3ms/step - loss: 0.4622 - val_loss: 0.2471\n",
      "Epoch 7/10\n",
      "703/703 [==============================] - 2s 3ms/step - loss: 0.4336 - val_loss: 0.3292\n",
      "Epoch 8/10\n",
      "703/703 [==============================] - 2s 3ms/step - loss: 0.4819 - val_loss: 0.2549\n",
      "Epoch 9/10\n",
      "703/703 [==============================] - 2s 3ms/step - loss: 0.4334 - val_loss: 0.5485\n",
      "Epoch 10/10\n",
      "703/703 [==============================] - 2s 3ms/step - loss: 0.4423 - val_loss: 0.2592\n"
     ]
    }
   ],
   "source": [
    "hist = model.fit(Xtr1, ytr1, epochs=10, batch_size=100, validation_data=(Xts1,yts1))"
   ]
  },
  {
   "cell_type": "code",
   "execution_count": 29,
   "id": "96171245",
   "metadata": {},
   "outputs": [
    {
     "data": {
      "text/plain": [
       "Text(0, 0.5, 'loss')"
      ]
     },
     "execution_count": 29,
     "metadata": {},
     "output_type": "execute_result"
    },
    {
     "data": {
      "image/png": "[encoded data removed]",
      "text/plain": [
       "<Figure size 432x288 with 1 Axes>"
      ]
     },
     "metadata": {
      "needs_background": "light"
     },
     "output_type": "display_data"
    }
   ],
   "source": [
    "tr_accuracy = hist.history['loss']\n",
    "\n",
    "\n",
    "plt.plot(tr_accuracy)\n",
    "plt.grid()\n",
    "plt.xlabel('epochs')\n",
    "plt.ylabel('loss')\n"
   ]
  },
  {
   "cell_type": "markdown",
   "id": "1947ced4",
   "metadata": {},
   "source": [
    "# Random Forest Regressor"
   ]
  },
  {
   "cell_type": "code",
   "execution_count": 34,
   "id": "803ba500",
   "metadata": {},
   "outputs": [
    {
     "name": "stdout",
     "output_type": "stream",
     "text": [
      "Random forest r2_score =  0.9680379925364445\n"
     ]
    }
   ],
   "source": [
    "model = RandomForestRegressor()\n",
    "model.fit(Xtr1,ytr1.ravel())\n",
    "\n",
    "# Get the mean absolute error on the validation data\n",
    "yhat = model.predict(Xts1)\n",
    "r2 = r2_score(yts1, yhat)\n",
    "print('Random forest r2_score = ', r2)"
   ]
  },
  {
   "cell_type": "markdown",
   "id": "6686c9d8",
   "metadata": {},
   "source": [
    "# XGboost"
   ]
  },
  {
   "cell_type": "code",
   "execution_count": 35,
   "id": "6e5b98fc",
   "metadata": {},
   "outputs": [
    {
     "name": "stdout",
     "output_type": "stream",
     "text": [
      "XGBoost  r2_score =  0.9704197614375748\n"
     ]
    }
   ],
   "source": [
    "XGBModel = xg.XGBRegressor()\n",
    "XGBModel.fit(Xtr1,ytr1 , verbose=False)\n",
    "\n",
    "# Get the mean absolute error on the validation data :\n",
    "yhat = XGBModel.predict(Xts1)\n",
    "r2 = r2_score(yts1 , yhat)\n",
    "print('XGBoost  r2_score = ',r2)"
   ]
  },
  {
   "cell_type": "markdown",
   "id": "e3df2a4d",
   "metadata": {},
   "source": [
    "# PCA"
   ]
  },
  {
   "cell_type": "code",
   "execution_count": 32,
   "id": "4853ac25",
   "metadata": {},
   "outputs": [
    {
     "name": "stdout",
     "output_type": "stream",
     "text": [
      "i = 10.0, Test R^2     =   2.8203e-02\n",
      "i = 25.88888888888889, Test R^2     =   1.1280e-01\n",
      "i = 41.77777777777778, Test R^2     =   9.0084e-02\n",
      "i = 57.66666666666667, Test R^2     =   8.9398e-02\n",
      "i = 73.55555555555556, Test R^2     =   8.5535e-02\n",
      "i = 89.44444444444444, Test R^2     =   7.8796e-02\n",
      "i = 105.33333333333334, Test R^2     =   8.1828e-02\n",
      "i = 121.22222222222223, Test R^2     =   1.3193e-01\n",
      "i = 137.11111111111111, Test R^2     =   1.1866e-01\n",
      "i = 153.0, Test R^2     =   1.3183e-01\n"
     ]
    }
   ],
   "source": [
    "from sklearn.decomposition import PCA\n",
    "import math\n",
    "\n",
    "a = np.linspace(10,X.shape[1],10)\n",
    "\n",
    "for i in a:\n",
    "    \n",
    "    pca = PCA(n_components=math.floor(i), svd_solver='randomized', whiten=True)\n",
    "    pca.fit(Xtr)\n",
    "\n",
    "    # Transform the training and test\n",
    "    Ztr = pca.transform(Xtr)\n",
    "    Zts = pca.transform(Xts)\n",
    "\n",
    "    # Fit\n",
    "    reg_ls = LinearRegression()\n",
    "    reg_ls.fit(Ztr, ytr1)\n",
    "\n",
    "    # Test R^2\n",
    "    yhat1_ts = reg_ls.predict(Zts)\n",
    "    rsq_ts = r2_score(yts1, yhat1_ts)\n",
    "    print(f'i = {i}, Test R^2     = %12.4e' % rsq_ts)"
   ]
  },
  {
   "cell_type": "markdown",
   "id": "6fba4212",
   "metadata": {},
   "source": [
    "# Ridge using PCA"
   ]
  },
  {
   "cell_type": "code",
   "execution_count": 33,
   "id": "2b245fb1",
   "metadata": {},
   "outputs": [
    {
     "name": "stdout",
     "output_type": "stream",
     "text": [
      "Test R^2     = 0.132147\n"
     ]
    }
   ],
   "source": [
    "reg_ls = Ridge(alpha=1e-5)\n",
    "reg_ls.fit(Ztr, ytr1)\n",
    "yhat1 = reg_ls.predict(Zts)\n",
    "rsq = r2_score(yts1, yhat1)\n",
    "print('Test R^2     = %f' % rsq)"
   ]
  },
  {
   "cell_type": "code",
   "execution_count": null,
   "id": "9f17132d",
   "metadata": {},
   "outputs": [],
   "source": []
  }
 ],
 "metadata": {
  "kernelspec": {
   "display_name": "Python 3 (ipykernel)",
   "language": "python",
   "name": "python3"
  },
  "language_info": {
   "codemirror_mode": {
    "name": "ipython",
    "version": 3
   },
   "file_extension": ".py",
   "mimetype": "text/x-python",
   "name": "python",
   "nbconvert_exporter": "python",
   "pygments_lexer": "ipython3",
   "version": "3.9.12"
  }
 },
 "nbformat": 4,
 "nbformat_minor": 5
}
