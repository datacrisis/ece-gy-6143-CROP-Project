{
 "cells": [
  {
   "cell_type": "markdown",
   "id": "81682d01",
   "metadata": {},
   "source": [
    "# Dataset Generation Notebook\n",
    "This notebook contains the code required to generate the challenge datasets from the raw sources. Checkout the accompanying paper for sources and links to said raw datasets."
   ]
  },
  {
   "cell_type": "code",
   "execution_count": 99,
   "id": "b0c227a6",
   "metadata": {},
   "outputs": [],
   "source": [
    "#Import\n",
    "import os\n",
    "import pandas as pd\n",
    "import numpy as np\n",
    "from collections import defaultdict\n",
    "\n",
    "pd.set_option('display.max_rows', 500)\n",
    "pd.set_option('display.max_columns', 500)\n",
    "pd.set_option('display.width', 1000)"
   ]
  },
  {
   "cell_type": "markdown",
   "id": "d136cfed",
   "metadata": {},
   "source": [
    "____\n",
    "## 1. Ingest and Parse Raw Data"
   ]
  },
  {
   "cell_type": "markdown",
   "id": "b6f02bff",
   "metadata": {},
   "source": [
    "#### Main Yield Data"
   ]
  },
  {
   "cell_type": "code",
   "execution_count": 100,
   "id": "66458db3",
   "metadata": {},
   "outputs": [],
   "source": [
    "#Read data\n",
    "pth = 'data/Production_Crops_Livestock_E_All_Data/Production_Crops_Livestock_E_All_Data_NOFLAG.csv'\n",
    "df1 = pd.read_csv(pth,encoding='latin-1')"
   ]
  },
  {
   "cell_type": "code",
   "execution_count": 101,
   "id": "816208bf",
   "metadata": {},
   "outputs": [],
   "source": [
    "#Selected\n",
    "items_sl = ['Cereals',\n",
    "            'Maize',\n",
    "            'Sugar Crops Primary',\n",
    "            'Potatoes',\n",
    "            'Rice',\n",
    "            'Rice, paddy (rice milled equivalent)',\n",
    "            'Beans, dry',\n",
    "            'Wheat',\n",
    "            'Sorghum',\n",
    "            'Barley',\n",
    "            'Millet',\n",
    "            'Oats',\n",
    "            'Rye',\n",
    "            'Buckwheat',\n",
    "            'Molasses',\n",
    "           ]"
   ]
  },
  {
   "cell_type": "code",
   "execution_count": 102,
   "id": "5ee1d497",
   "metadata": {},
   "outputs": [],
   "source": [
    "#Take stock of data we have on collected categories\n",
    "df1 = df1.loc[df1.Item.isin(items_sl)]"
   ]
  },
  {
   "cell_type": "code",
   "execution_count": 103,
   "id": "bb47e955",
   "metadata": {},
   "outputs": [
    {
     "data": {
      "text/plain": [
       "255030"
      ]
     },
     "execution_count": 103,
     "metadata": {},
     "output_type": "execute_result"
    }
   ],
   "source": [
    "#Count how many years of data are available and countries\n",
    "country_ct = df1.Area.value_counts()\n",
    "year_cols = df1.columns[9:]\n",
    "\n",
    "non_na_entries = (~df1[year_cols].isna())\n",
    "non_na_entries.sum().sum() #255030 datapoints"
   ]
  },
  {
   "cell_type": "markdown",
   "id": "724f3862",
   "metadata": {},
   "source": [
    "#### Food Balance"
   ]
  },
  {
   "cell_type": "code",
   "execution_count": 104,
   "id": "c5d7d9e6",
   "metadata": {},
   "outputs": [],
   "source": [
    "#Food balance dataset\n",
    "pth = 'data/FoodBalanceSheets_E_All_Data/FoodBalanceSheets_E_All_Data_NOFLAG.csv'\n",
    "df_foodbal = pd.read_csv(pth,encoding='latin-1')"
   ]
  },
  {
   "cell_type": "code",
   "execution_count": 105,
   "id": "a38a875c",
   "metadata": {},
   "outputs": [
    {
     "data": {
      "text/plain": [
       "Domestic supply quantity                  25113\n",
       "Import Quantity                           24640\n",
       "Protein supply quantity (g/capita/day)    23857\n",
       "Fat supply quantity (g/capita/day)        23852\n",
       "Food supply (kcal/capita/day)             23833\n",
       "Food                                      23402\n",
       "Food supply quantity (kg/capita/yr)       23305\n",
       "Export Quantity                           23043\n",
       "Residuals                                 22126\n",
       "Stock Variation                           21214\n",
       "Production                                19162\n",
       "Losses                                    12772\n",
       "Other uses (non-food)                     12714\n",
       "Processing                                11326\n",
       "Feed                                      11034\n",
       "Tourist consumption                       10911\n",
       "Seed                                       7154\n",
       "Total Population - Both sexes               214\n",
       "Name: Element, dtype: int64"
      ]
     },
     "execution_count": 105,
     "metadata": {},
     "output_type": "execute_result"
    }
   ],
   "source": [
    "df_foodbal.Element.value_counts()\n",
    "\n",
    "#Use Food, Feed, Losses\n",
    "#For info of def check out https://www.fao.org/faostat/en/#data/FBS"
   ]
  },
  {
   "cell_type": "code",
   "execution_count": 106,
   "id": "8d60726c",
   "metadata": {},
   "outputs": [],
   "source": [
    "df2 = df_foodbal.loc[df_foodbal.Element.isin(['Food','Feed','Losses'])]\n",
    "# df2.head(5) #include a lot of other non selected item elements, to filter or not to filter?"
   ]
  },
  {
   "cell_type": "code",
   "execution_count": 107,
   "id": "6b30cdb0",
   "metadata": {},
   "outputs": [],
   "source": [
    "#Aggregate\n",
    "df2_feed = df2.loc[df2.Element == 'Feed'].groupby(['Area Code']).sum()\n",
    "df2_feed.drop(['Item Code','Element Code'],axis=1,inplace=True)\n",
    "df2_feed['units'] = '1000 tonnes'"
   ]
  },
  {
   "cell_type": "code",
   "execution_count": 108,
   "id": "28909efc",
   "metadata": {},
   "outputs": [],
   "source": [
    "#Aggregate\n",
    "df2_losses = df2.loc[df2.Element == 'Losses'].groupby(['Area Code']).sum()\n",
    "df2_losses.drop(['Item Code','Element Code'],axis=1,inplace=True)\n",
    "df2_losses['units'] = '1000 tonnes'"
   ]
  },
  {
   "cell_type": "code",
   "execution_count": 109,
   "id": "98509f32",
   "metadata": {
    "scrolled": false
   },
   "outputs": [],
   "source": [
    "#Aggregate\n",
    "df2_Food = df2.loc[df2.Element == 'Food'].groupby(['Area Code']).sum()\n",
    "df2_Food.drop(['Item Code','Element Code'],axis=1,inplace=True)\n",
    "df2_Food['units'] = '1000 tonnes'"
   ]
  },
  {
   "cell_type": "markdown",
   "id": "cfab176a",
   "metadata": {},
   "source": [
    "#### Macro Data"
   ]
  },
  {
   "cell_type": "code",
   "execution_count": 110,
   "id": "1e75c338",
   "metadata": {},
   "outputs": [],
   "source": [
    "#Try Macro data\n",
    "pth = 'data/Macro-Statistics_Key_Indicators_E_All_Data/Macro-Statistics_Key_Indicators_E_All_Data_NOFLAG.csv'\n",
    "df_macro = pd.read_csv(pth,encoding='latin-1')\n"
   ]
  },
  {
   "cell_type": "code",
   "execution_count": 111,
   "id": "e7cca0a4",
   "metadata": {},
   "outputs": [],
   "source": [
    "df_macro.Item.value_counts()\n",
    "\n",
    "#select\n",
    "macro_it_se = ['Gross Domestic Product',\n",
    "               'Gross Output (Agriculture)']"
   ]
  },
  {
   "cell_type": "code",
   "execution_count": 112,
   "id": "0595e596",
   "metadata": {},
   "outputs": [],
   "source": [
    "df_macro.Element.value_counts()\n",
    "\n",
    "#select\n",
    "macro_el_se = ['Value US$']"
   ]
  },
  {
   "cell_type": "code",
   "execution_count": 113,
   "id": "847bd776",
   "metadata": {},
   "outputs": [],
   "source": [
    "df3_gdp = df_macro.loc[(df_macro.Item.isin(['Gross Domestic Product'])) & (df_macro.Element.isin(macro_el_se))]\n",
    "df3_agi_out = df_macro.loc[(df_macro.Item.isin(['Gross Output (Agriculture)'])) & (df_macro.Element.isin(macro_el_se))]"
   ]
  },
  {
   "cell_type": "code",
   "execution_count": 114,
   "id": "6d4fe80d",
   "metadata": {},
   "outputs": [],
   "source": [
    "#Aggregate\n",
    "df3_gdp = df3_gdp.groupby(['Area Code']).sum() #can skip Element agg here, just 1 value\n",
    "df3_gdp.drop(['Item Code','Element Code'],axis=1,inplace=True)\n",
    "df3_gdp['units'] = 'millions $'"
   ]
  },
  {
   "cell_type": "code",
   "execution_count": 115,
   "id": "6d2780e3",
   "metadata": {},
   "outputs": [],
   "source": [
    "df3_agi_out = df3_agi_out.groupby(['Area Code']).sum() #can skip Element agg here, just 1 value\n",
    "df3_agi_out.drop(['Item Code','Element Code'],axis=1,inplace=True)\n",
    "df3_agi_out['units'] = 'millions $'"
   ]
  },
  {
   "cell_type": "markdown",
   "id": "902378bf",
   "metadata": {},
   "source": [
    "#### Inputs_Pesticides_Use_E_All_Data"
   ]
  },
  {
   "cell_type": "code",
   "execution_count": 116,
   "id": "dfb8e18c",
   "metadata": {},
   "outputs": [],
   "source": [
    "#Try Macro data\n",
    "pth = 'data/Inputs_Pesticides_Use_E_All_Data/Inputs_Pesticides_Use_E_All_Data_NOFLAG.csv'\n",
    "df_pest = pd.read_csv(pth,encoding='latin-1')\n"
   ]
  },
  {
   "cell_type": "code",
   "execution_count": 117,
   "id": "23697d30",
   "metadata": {},
   "outputs": [],
   "source": [
    "df4 = df_pest.loc[(df_pest.Item.isin(['Pesticides (total)']))]"
   ]
  },
  {
   "cell_type": "code",
   "execution_count": 118,
   "id": "25a02af5",
   "metadata": {},
   "outputs": [
    {
     "data": {
      "text/plain": [
       "(207, 39)"
      ]
     },
     "execution_count": 118,
     "metadata": {},
     "output_type": "execute_result"
    }
   ],
   "source": [
    "df4.shape"
   ]
  },
  {
   "cell_type": "code",
   "execution_count": 119,
   "id": "d35ff750",
   "metadata": {},
   "outputs": [],
   "source": [
    "#Aggregate\n",
    "df4 = df4.groupby(['Area Code']).sum() #can skip Element agg here, just 1 value\n",
    "df4.drop(['Item Code','Element Code'],axis=1,inplace=True)\n",
    "df4['units'] = 'tonnes'"
   ]
  },
  {
   "cell_type": "markdown",
   "id": "88f4e424",
   "metadata": {},
   "source": [
    "#### Fire"
   ]
  },
  {
   "cell_type": "code",
   "execution_count": 120,
   "id": "14cb6ff7",
   "metadata": {},
   "outputs": [],
   "source": [
    "pth = 'data/Emissions_Land_Use_Fires_E_All_Data/Emissions_Land_Use_Fires_E_All_Data_NOFLAG.csv'\n",
    "df_fire = pd.read_csv(pth,encoding='latin-1')\n"
   ]
  },
  {
   "cell_type": "code",
   "execution_count": 121,
   "id": "bd62fa22",
   "metadata": {},
   "outputs": [],
   "source": [
    "df5 = df_fire.loc[df_fire.Element == 'Burned Area']"
   ]
  },
  {
   "cell_type": "code",
   "execution_count": 122,
   "id": "d569f529",
   "metadata": {
    "scrolled": true
   },
   "outputs": [],
   "source": [
    "#Aggregate\n",
    "df5 = df5.groupby(['Area Code']).sum() #can skip Element agg here, just 1 value\n",
    "df5.drop(['Item Code','Element Code'],axis=1,inplace=True)\n",
    "df5['units'] = 'ha'"
   ]
  },
  {
   "cell_type": "markdown",
   "id": "f4a13312",
   "metadata": {},
   "source": [
    "#### abcnews-date-text\n"
   ]
  },
  {
   "cell_type": "code",
   "execution_count": 123,
   "id": "9193b619",
   "metadata": {},
   "outputs": [],
   "source": [
    "pth = 'data/abcnews-date-text.csv'\n",
    "df_news = pd.read_csv(pth)\n"
   ]
  },
  {
   "cell_type": "code",
   "execution_count": 124,
   "id": "a84002c4",
   "metadata": {
    "scrolled": false
   },
   "outputs": [
    {
     "name": "stdout",
     "output_type": "stream",
     "text": [
      "(1244184, 2)\n"
     ]
    },
    {
     "data": {
      "text/html": [
       "<div>\n",
       "<style scoped>\n",
       "    .dataframe tbody tr th:only-of-type {\n",
       "        vertical-align: middle;\n",
       "    }\n",
       "\n",
       "    .dataframe tbody tr th {\n",
       "        vertical-align: top;\n",
       "    }\n",
       "\n",
       "    .dataframe thead th {\n",
       "        text-align: right;\n",
       "    }\n",
       "</style>\n",
       "<table border=\"1\" class=\"dataframe\">\n",
       "  <thead>\n",
       "    <tr style=\"text-align: right;\">\n",
       "      <th></th>\n",
       "      <th>publish_date</th>\n",
       "      <th>headline_text</th>\n",
       "    </tr>\n",
       "  </thead>\n",
       "  <tbody>\n",
       "    <tr>\n",
       "      <th>0</th>\n",
       "      <td>20030219</td>\n",
       "      <td>aba decides against community broadcasting lic...</td>\n",
       "    </tr>\n",
       "    <tr>\n",
       "      <th>1</th>\n",
       "      <td>20030219</td>\n",
       "      <td>act fire witnesses must be aware of defamation</td>\n",
       "    </tr>\n",
       "    <tr>\n",
       "      <th>2</th>\n",
       "      <td>20030219</td>\n",
       "      <td>a g calls for infrastructure protection summit</td>\n",
       "    </tr>\n",
       "    <tr>\n",
       "      <th>3</th>\n",
       "      <td>20030219</td>\n",
       "      <td>air nz staff in aust strike for pay rise</td>\n",
       "    </tr>\n",
       "    <tr>\n",
       "      <th>4</th>\n",
       "      <td>20030219</td>\n",
       "      <td>air nz strike to affect australian travellers</td>\n",
       "    </tr>\n",
       "    <tr>\n",
       "      <th>5</th>\n",
       "      <td>20030219</td>\n",
       "      <td>ambitious olsson wins triple jump</td>\n",
       "    </tr>\n",
       "    <tr>\n",
       "      <th>6</th>\n",
       "      <td>20030219</td>\n",
       "      <td>antic delighted with record breaking barca</td>\n",
       "    </tr>\n",
       "    <tr>\n",
       "      <th>7</th>\n",
       "      <td>20030219</td>\n",
       "      <td>aussie qualifier stosur wastes four memphis match</td>\n",
       "    </tr>\n",
       "    <tr>\n",
       "      <th>8</th>\n",
       "      <td>20030219</td>\n",
       "      <td>aust addresses un security council over iraq</td>\n",
       "    </tr>\n",
       "    <tr>\n",
       "      <th>9</th>\n",
       "      <td>20030219</td>\n",
       "      <td>australia is locked into war timetable opp</td>\n",
       "    </tr>\n",
       "  </tbody>\n",
       "</table>\n",
       "</div>"
      ],
      "text/plain": [
       "   publish_date                                      headline_text\n",
       "0      20030219  aba decides against community broadcasting lic...\n",
       "1      20030219     act fire witnesses must be aware of defamation\n",
       "2      20030219     a g calls for infrastructure protection summit\n",
       "3      20030219           air nz staff in aust strike for pay rise\n",
       "4      20030219      air nz strike to affect australian travellers\n",
       "5      20030219                  ambitious olsson wins triple jump\n",
       "6      20030219         antic delighted with record breaking barca\n",
       "7      20030219  aussie qualifier stosur wastes four memphis match\n",
       "8      20030219       aust addresses un security council over iraq\n",
       "9      20030219         australia is locked into war timetable opp"
      ]
     },
     "execution_count": 124,
     "metadata": {},
     "output_type": "execute_result"
    }
   ],
   "source": [
    "print(df_news.shape)\n",
    "\n",
    "df_news.head(10)"
   ]
  },
  {
   "cell_type": "code",
   "execution_count": 125,
   "id": "5c93fe1f",
   "metadata": {},
   "outputs": [],
   "source": [
    "farms = []\n",
    "\n",
    "for i in df_news.headline_text.values:\n",
    "    if 'farm' in i or 'agri' in i:\n",
    "        farms.append(i)"
   ]
  },
  {
   "cell_type": "code",
   "execution_count": 126,
   "id": "2e11bbe8",
   "metadata": {},
   "outputs": [
    {
     "data": {
      "text/plain": [
       "17308"
      ]
     },
     "execution_count": 126,
     "metadata": {},
     "output_type": "execute_result"
    }
   ],
   "source": [
    "len(farms)"
   ]
  },
  {
   "cell_type": "code",
   "execution_count": 127,
   "id": "21e10c8e",
   "metadata": {
    "scrolled": true
   },
   "outputs": [
    {
     "name": "stdout",
     "output_type": "stream",
     "text": [
      "['plan to encourage farmers into plantation timber', 'groups praise outgoing opposition agriculture', 'rain boosts farmers confidence', 'council approves poultry farm', 'farmers celebrate good rain', 'group gets clearer understanding of farmers gm', 'vic govt gets farmers drought update', 'victorian farmers hope rain will break drought', 'rain brings relief for act farmers', 'drought assistance will continue for farmers carr']\n"
     ]
    }
   ],
   "source": [
    "print(farms[:10])"
   ]
  },
  {
   "cell_type": "markdown",
   "id": "0bb0d087",
   "metadata": {},
   "source": [
    "___\n",
    "## 2. Merge Datasets"
   ]
  },
  {
   "cell_type": "code",
   "execution_count": 128,
   "id": "134a7b3e",
   "metadata": {},
   "outputs": [],
   "source": [
    "df1.index = df1['Area Code']\n",
    "df1.drop(['Area Code','Area Code (M49)'],axis=1,inplace=True)"
   ]
  },
  {
   "cell_type": "code",
   "execution_count": 129,
   "id": "7ac9667c",
   "metadata": {},
   "outputs": [],
   "source": [
    "#Fine tune df1\n",
    "df1.Element.value_counts() #Let's concentrate on production?\n",
    "\n",
    "df1_ = df1.loc[df1.Element == 'Production']"
   ]
  },
  {
   "cell_type": "code",
   "execution_count": 130,
   "id": "2456b846",
   "metadata": {
    "scrolled": true
   },
   "outputs": [],
   "source": [
    "#Merge! \n",
    "col1 = [i + '_AgriProd' if 'Y' in i else i for i in df1_.columns ]\n",
    "col2 = [i + '_AnnualFeedProd' for i in df2_feed.columns]\n",
    "\n",
    "df1_.columns = col1\n",
    "df2_feed.columns = col2 "
   ]
  },
  {
   "cell_type": "code",
   "execution_count": 131,
   "id": "1d7a86d6",
   "metadata": {},
   "outputs": [],
   "source": [
    "df = df1_.merge(df2_feed,how='left',right_index=True,left_index=True)"
   ]
  },
  {
   "cell_type": "code",
   "execution_count": 132,
   "id": "8ec6008f",
   "metadata": {},
   "outputs": [],
   "source": [
    "#Merge! \n",
    "col2 = [i + '_AnnualFoodProd' for i in df2_Food.columns]\n",
    "\n",
    "df2_Food.columns = col2 "
   ]
  },
  {
   "cell_type": "code",
   "execution_count": 133,
   "id": "b0fefedd",
   "metadata": {},
   "outputs": [],
   "source": [
    "df = df.merge(df2_Food,how='left',right_index=True,left_index=True)"
   ]
  },
  {
   "cell_type": "code",
   "execution_count": 134,
   "id": "604ba773",
   "metadata": {},
   "outputs": [],
   "source": [
    "#Merge! \n",
    "col2 = [i + '_AnnualAgriLosses' for i in df2_losses.columns]\n",
    "\n",
    "df2_losses.columns = col2 "
   ]
  },
  {
   "cell_type": "code",
   "execution_count": 135,
   "id": "0dd96722",
   "metadata": {},
   "outputs": [],
   "source": [
    "df = df.merge(df2_losses,how='left',right_index=True,left_index=True)"
   ]
  },
  {
   "cell_type": "code",
   "execution_count": 136,
   "id": "50962b07",
   "metadata": {},
   "outputs": [],
   "source": [
    "#Merge! \n",
    "col2 = [i + '_GDP' for i in df3_gdp.columns]\n",
    "\n",
    "df3_gdp.columns = col2 "
   ]
  },
  {
   "cell_type": "code",
   "execution_count": 137,
   "id": "32d5adab",
   "metadata": {},
   "outputs": [],
   "source": [
    "df = df.merge(df3_gdp,how='left',right_index=True,left_index=True)"
   ]
  },
  {
   "cell_type": "code",
   "execution_count": 138,
   "id": "984fdff2",
   "metadata": {},
   "outputs": [],
   "source": [
    "#Merge! \n",
    "col2 = [i + '_GrossAgriVal' for i in df3_agi_out.columns]\n",
    "\n",
    "df3_agi_out.columns = col2 "
   ]
  },
  {
   "cell_type": "code",
   "execution_count": 139,
   "id": "0964e5ed",
   "metadata": {},
   "outputs": [],
   "source": [
    "df = df.merge(df3_agi_out,how='left',right_index=True,left_index=True)"
   ]
  },
  {
   "cell_type": "code",
   "execution_count": 140,
   "id": "713a6d67",
   "metadata": {},
   "outputs": [],
   "source": [
    "#Merge! \n",
    "col2 = [i + '_Pesticide' for i in df4.columns]\n",
    "\n",
    "df4.columns = col2 "
   ]
  },
  {
   "cell_type": "code",
   "execution_count": 141,
   "id": "5e1712d8",
   "metadata": {},
   "outputs": [],
   "source": [
    "df = df.merge(df4,how='left',right_index=True,left_index=True)"
   ]
  },
  {
   "cell_type": "code",
   "execution_count": 142,
   "id": "efbba2fc",
   "metadata": {},
   "outputs": [],
   "source": [
    "#Merge! \n",
    "df5.drop('Source Code',axis=1,inplace=True)\n",
    "\n",
    "col2 = [i + '_Fire' for i in df5.columns]\n",
    "\n",
    "df5.columns = col2 "
   ]
  },
  {
   "cell_type": "code",
   "execution_count": 143,
   "id": "ef83f48c",
   "metadata": {},
   "outputs": [],
   "source": [
    "df = df.merge(df5,how='left',right_index=True,left_index=True)"
   ]
  },
  {
   "cell_type": "code",
   "execution_count": 144,
   "id": "81bf12c2",
   "metadata": {},
   "outputs": [
    {
     "data": {
      "text/plain": [
       "(2005, 269)"
      ]
     },
     "execution_count": 144,
     "metadata": {},
     "output_type": "execute_result"
    }
   ],
   "source": [
    "df.shape"
   ]
  },
  {
   "cell_type": "markdown",
   "id": "2c8200bb",
   "metadata": {},
   "source": [
    "##### Done Merging!"
   ]
  },
  {
   "cell_type": "code",
   "execution_count": 145,
   "id": "11a33f65",
   "metadata": {},
   "outputs": [
    {
     "data": {
      "text/html": [
       "<div>\n",
       "<style scoped>\n",
       "    .dataframe tbody tr th:only-of-type {\n",
       "        vertical-align: middle;\n",
       "    }\n",
       "\n",
       "    .dataframe tbody tr th {\n",
       "        vertical-align: top;\n",
       "    }\n",
       "\n",
       "    .dataframe thead th {\n",
       "        text-align: right;\n",
       "    }\n",
       "</style>\n",
       "<table border=\"1\" class=\"dataframe\">\n",
       "  <thead>\n",
       "    <tr style=\"text-align: right;\">\n",
       "      <th></th>\n",
       "      <th>publish_date</th>\n",
       "      <th>headline_text</th>\n",
       "    </tr>\n",
       "  </thead>\n",
       "  <tbody>\n",
       "    <tr>\n",
       "      <th>0</th>\n",
       "      <td>20030219</td>\n",
       "      <td>aba decides against community broadcasting lic...</td>\n",
       "    </tr>\n",
       "    <tr>\n",
       "      <th>1</th>\n",
       "      <td>20030219</td>\n",
       "      <td>act fire witnesses must be aware of defamation</td>\n",
       "    </tr>\n",
       "    <tr>\n",
       "      <th>2</th>\n",
       "      <td>20030219</td>\n",
       "      <td>a g calls for infrastructure protection summit</td>\n",
       "    </tr>\n",
       "    <tr>\n",
       "      <th>3</th>\n",
       "      <td>20030219</td>\n",
       "      <td>air nz staff in aust strike for pay rise</td>\n",
       "    </tr>\n",
       "    <tr>\n",
       "      <th>4</th>\n",
       "      <td>20030219</td>\n",
       "      <td>air nz strike to affect australian travellers</td>\n",
       "    </tr>\n",
       "    <tr>\n",
       "      <th>...</th>\n",
       "      <td>...</td>\n",
       "      <td>...</td>\n",
       "    </tr>\n",
       "    <tr>\n",
       "      <th>1244179</th>\n",
       "      <td>20211231</td>\n",
       "      <td>two aged care residents die as state records 2...</td>\n",
       "    </tr>\n",
       "    <tr>\n",
       "      <th>1244180</th>\n",
       "      <td>20211231</td>\n",
       "      <td>victoria records 5;919 new cases and seven deaths</td>\n",
       "    </tr>\n",
       "    <tr>\n",
       "      <th>1244181</th>\n",
       "      <td>20211231</td>\n",
       "      <td>wa delays adopting new close contact definition</td>\n",
       "    </tr>\n",
       "    <tr>\n",
       "      <th>1244182</th>\n",
       "      <td>20211231</td>\n",
       "      <td>western ringtail possums found badly dehydrate...</td>\n",
       "    </tr>\n",
       "    <tr>\n",
       "      <th>1244183</th>\n",
       "      <td>20211231</td>\n",
       "      <td>what makes you a close covid contact here are ...</td>\n",
       "    </tr>\n",
       "  </tbody>\n",
       "</table>\n",
       "<p>1244184 rows × 2 columns</p>\n",
       "</div>"
      ],
      "text/plain": [
       "         publish_date                                      headline_text\n",
       "0            20030219  aba decides against community broadcasting lic...\n",
       "1            20030219     act fire witnesses must be aware of defamation\n",
       "2            20030219     a g calls for infrastructure protection summit\n",
       "3            20030219           air nz staff in aust strike for pay rise\n",
       "4            20030219      air nz strike to affect australian travellers\n",
       "...               ...                                                ...\n",
       "1244179      20211231  two aged care residents die as state records 2...\n",
       "1244180      20211231  victoria records 5;919 new cases and seven deaths\n",
       "1244181      20211231    wa delays adopting new close contact definition\n",
       "1244182      20211231  western ringtail possums found badly dehydrate...\n",
       "1244183      20211231  what makes you a close covid contact here are ...\n",
       "\n",
       "[1244184 rows x 2 columns]"
      ]
     },
     "execution_count": 145,
     "metadata": {},
     "output_type": "execute_result"
    }
   ],
   "source": [
    "df_news #this is unmerged, leave to the sideas a separate dataset and handled in feature engineering"
   ]
  },
  {
   "cell_type": "markdown",
   "id": "7f0ef695",
   "metadata": {},
   "source": [
    "___\n",
    "## 3. Generate Challenge Dataset\n",
    "\n",
    "#### Break into Challenges\n",
    "1. Challenge 1 \n",
    "    - Try to predict next year's production (in tonnes) for crop (item) X, given last 20 years of data WIHOUT AGRI_PROD feature.\n",
    "2. Challenge 2\n",
    "    - Try to predict next year's production (in tonnes) for crop (item) X, given last 5 year of data.\n",
    "2. Challenge 3\n",
    "    - Try to predict next year's production (in tonnes) for crop (item) X, given last 1 year of data."
   ]
  },
  {
   "cell_type": "markdown",
   "id": "c26643d9",
   "metadata": {},
   "source": [
    "#### Challenge 1"
   ]
  },
  {
   "cell_type": "markdown",
   "id": "ff735a17",
   "metadata": {},
   "source": [
    "**Note**: Min yearis 1961, max year is 2020 on yield, let's base it off of this"
   ]
  },
  {
   "cell_type": "code",
   "execution_count": 146,
   "id": "9fdaf8aa",
   "metadata": {},
   "outputs": [],
   "source": [
    "keys = ['_AgriProd',\n",
    "        '_AnnualFeedProd',\n",
    "        '_AnnualFoodProd',\n",
    "        '_AnnualAgriLosses',\n",
    "        '_GDP',\n",
    "        '_GrossAgriVal',\n",
    "        '_Pesticide',\n",
    "        '_Fire']\n",
    "\n",
    "#NEWS DATA NOT INCLUDED HERE!"
   ]
  },
  {
   "cell_type": "code",
   "execution_count": 147,
   "id": "19087cef",
   "metadata": {},
   "outputs": [],
   "source": [
    "n = 21\n",
    "combs_ = np.arange(1961,2021,1)\n",
    "comb20 = []\n",
    "\n",
    "for i in range(n,len(combs_)):\n",
    "    comb20.append(combs_[i-n:i])"
   ]
  },
  {
   "cell_type": "code",
   "execution_count": 148,
   "id": "2f671792",
   "metadata": {
    "scrolled": true
   },
   "outputs": [
    {
     "name": "stdout",
     "output_type": "stream",
     "text": [
      "Done 0/2005...\n",
      "Done 100/2005...\n",
      "Done 200/2005...\n",
      "Done 300/2005...\n",
      "Done 400/2005...\n",
      "Done 500/2005...\n",
      "Done 600/2005...\n",
      "Done 700/2005...\n",
      "Done 800/2005...\n",
      "Done 900/2005...\n",
      "Done 1000/2005...\n",
      "Done 1100/2005...\n",
      "Done 1200/2005...\n",
      "Done 1300/2005...\n",
      "Done 1400/2005...\n",
      "Done 1500/2005...\n",
      "Done 1600/2005...\n",
      "Done 1700/2005...\n",
      "Done 1800/2005...\n",
      "Done 1900/2005...\n",
      "Done 2000/2005...\n"
     ]
    }
   ],
   "source": [
    "#Assemble Challenge 1 dataset\n",
    "c1_dt = defaultdict(dict)\n",
    "ct = 0\n",
    "\n",
    "for idx,(k,v) in enumerate(df.iterrows()):\n",
    "    \n",
    "    if idx % 100 == 0:\n",
    "        print(\"Done {}/{}...\".format(idx,len(df)))\n",
    "    \n",
    "    area = v.Area\n",
    "    areaCode = k\n",
    "    item = v.Item\n",
    "    prod_unit = v.Unit\n",
    "    \n",
    "    for j in comb20:\n",
    "        \n",
    "        c1_dt[ct] = {'area':area,\n",
    "                      'areaCode':areaCode,\n",
    "                      'item':item,\n",
    "                      'prod_unit':prod_unit}\n",
    "        \n",
    "        for ijx,i in enumerate(j):\n",
    "\n",
    "            for y in keys:\n",
    "                \n",
    "                try:\n",
    "                    name = \"Y{}{}\".format(i,y)\n",
    "                    val = v[name]\n",
    "                    feat_name = 'y{}_{}'.format(ijx,y)\n",
    "                    \n",
    "                    c1_dt[ct][feat_name] = val\n",
    "                    \n",
    "                    \n",
    "                except:\n",
    "                    feat_name = 'y{}_{}'.format(ijx,y)\n",
    "                    c1_dt[ct][feat_name] = np.nan\n",
    "#                     print('Error!')\n",
    "#                     print(name in v)\n",
    "\n",
    "        ct+= 1"
   ]
  },
  {
   "cell_type": "code",
   "execution_count": 149,
   "id": "b4406a01",
   "metadata": {},
   "outputs": [],
   "source": [
    "c1_df = pd.DataFrame.from_dict(c1_dt,orient='index')"
   ]
  },
  {
   "cell_type": "code",
   "execution_count": 150,
   "id": "e1ca0b0f",
   "metadata": {},
   "outputs": [],
   "source": [
    "c1_df.dropna(how='all',subset=c1_df.columns[4:],inplace=True) #drop all NA cols"
   ]
  },
  {
   "cell_type": "code",
   "execution_count": 151,
   "id": "72104be6",
   "metadata": {},
   "outputs": [
    {
     "data": {
      "text/plain": [
       "(78077, 172)"
      ]
     },
     "execution_count": 151,
     "metadata": {},
     "output_type": "execute_result"
    }
   ],
   "source": [
    "c1_df.shape"
   ]
  },
  {
   "cell_type": "markdown",
   "id": "71c6295b",
   "metadata": {},
   "source": [
    "#### Challenge 2"
   ]
  },
  {
   "cell_type": "code",
   "execution_count": 152,
   "id": "42079dc7",
   "metadata": {},
   "outputs": [],
   "source": [
    "n = 6\n",
    "comb5 = []\n",
    "\n",
    "for i in range(n,len(combs_)):\n",
    "    comb5.append(combs_[i-n:i])"
   ]
  },
  {
   "cell_type": "code",
   "execution_count": 153,
   "id": "fbd4ff88",
   "metadata": {
    "scrolled": true
   },
   "outputs": [
    {
     "name": "stdout",
     "output_type": "stream",
     "text": [
      "Done 0/2005...\n",
      "Done 100/2005...\n",
      "Done 200/2005...\n",
      "Done 300/2005...\n",
      "Done 400/2005...\n",
      "Done 500/2005...\n",
      "Done 600/2005...\n",
      "Done 700/2005...\n",
      "Done 800/2005...\n",
      "Done 900/2005...\n",
      "Done 1000/2005...\n",
      "Done 1100/2005...\n",
      "Done 1200/2005...\n",
      "Done 1300/2005...\n",
      "Done 1400/2005...\n",
      "Done 1500/2005...\n",
      "Done 1600/2005...\n",
      "Done 1700/2005...\n",
      "Done 1800/2005...\n",
      "Done 1900/2005...\n",
      "Done 2000/2005...\n"
     ]
    }
   ],
   "source": [
    "#Assemble Challenge 1 dataset\n",
    "c2_dt = defaultdict(dict)\n",
    "ct = 0\n",
    "\n",
    "for idx,(k,v) in enumerate(df.iterrows()):\n",
    "    \n",
    "    if idx % 100 == 0:\n",
    "        print(\"Done {}/{}...\".format(idx,len(df)))\n",
    "    \n",
    "    area = v.Area\n",
    "    areaCode = k\n",
    "    item = v.Item\n",
    "    prod_unit = v.Unit\n",
    "    \n",
    "    for j in comb5:\n",
    "        \n",
    "        c2_dt[ct] = {'area':area,\n",
    "                      'areaCode':areaCode,\n",
    "                      'item':item,\n",
    "                      'prod_unit':prod_unit}\n",
    "        \n",
    "        for ijx,i in enumerate(j):\n",
    "\n",
    "            for y in keys:\n",
    "                \n",
    "                try:\n",
    "                    name = \"Y{}{}\".format(i,y)\n",
    "                    val = v[name]\n",
    "                    feat_name = 'y{}_{}'.format(ijx,y)\n",
    "                    \n",
    "                    c2_dt[ct][feat_name] = val\n",
    "                    \n",
    "                    \n",
    "                except:\n",
    "                    feat_name = 'y{}_{}'.format(ijx,y)\n",
    "                    c2_dt[ct][feat_name] = np.nan\n",
    "\n",
    "        ct+= 1"
   ]
  },
  {
   "cell_type": "code",
   "execution_count": 154,
   "id": "1e9dc275",
   "metadata": {},
   "outputs": [],
   "source": [
    "c2_df = pd.DataFrame.from_dict(c2_dt,orient='index')"
   ]
  },
  {
   "cell_type": "code",
   "execution_count": 155,
   "id": "803d56eb",
   "metadata": {},
   "outputs": [],
   "source": [
    "c2_df.dropna(how='all',subset=c2_df.columns[4:],inplace=True) #drop all NA cols"
   ]
  },
  {
   "cell_type": "code",
   "execution_count": 156,
   "id": "3959b75d",
   "metadata": {},
   "outputs": [
    {
     "data": {
      "text/plain": [
       "(105873, 52)"
      ]
     },
     "execution_count": 156,
     "metadata": {},
     "output_type": "execute_result"
    }
   ],
   "source": [
    "c2_df.shape"
   ]
  },
  {
   "cell_type": "markdown",
   "id": "328868a3",
   "metadata": {},
   "source": [
    "#### Challenge 3"
   ]
  },
  {
   "cell_type": "code",
   "execution_count": 157,
   "id": "fc20ca90",
   "metadata": {},
   "outputs": [],
   "source": [
    "n = 2\n",
    "comb1 = []\n",
    "\n",
    "for i in range(n,len(combs_)):\n",
    "    comb1.append(combs_[i-n:i])"
   ]
  },
  {
   "cell_type": "code",
   "execution_count": 158,
   "id": "ad637aa1",
   "metadata": {
    "scrolled": true
   },
   "outputs": [
    {
     "name": "stdout",
     "output_type": "stream",
     "text": [
      "Done 0/2005...\n",
      "Done 100/2005...\n",
      "Done 200/2005...\n",
      "Done 300/2005...\n",
      "Done 400/2005...\n",
      "Done 500/2005...\n",
      "Done 600/2005...\n",
      "Done 700/2005...\n",
      "Done 800/2005...\n",
      "Done 900/2005...\n",
      "Done 1000/2005...\n",
      "Done 1100/2005...\n",
      "Done 1200/2005...\n",
      "Done 1300/2005...\n",
      "Done 1400/2005...\n",
      "Done 1500/2005...\n",
      "Done 1600/2005...\n",
      "Done 1700/2005...\n",
      "Done 1800/2005...\n",
      "Done 1900/2005...\n",
      "Done 2000/2005...\n"
     ]
    }
   ],
   "source": [
    "#Assemble Challenge 1 dataset\n",
    "c3_dt = defaultdict(dict)\n",
    "ct = 0\n",
    "\n",
    "for idx,(k,v) in enumerate(df.iterrows()):\n",
    "    \n",
    "    if idx % 100 == 0:\n",
    "        print(\"Done {}/{}...\".format(idx,len(df)))\n",
    "    \n",
    "    area = v.Area\n",
    "    areaCode = k\n",
    "    item = v.Item\n",
    "    prod_unit = v.Unit\n",
    "    \n",
    "    for j in comb1:\n",
    "        \n",
    "        c3_dt[ct] = {'area':area,\n",
    "                      'areaCode':areaCode,\n",
    "                      'item':item,\n",
    "                      'prod_unit':prod_unit}\n",
    "        \n",
    "        for ijx,i in enumerate(j):\n",
    "\n",
    "            for y in keys:\n",
    "                \n",
    "                try:\n",
    "                    name = \"Y{}{}\".format(i,y)\n",
    "                    val = v[name]\n",
    "                    feat_name = 'y{}_{}'.format(ijx,y)\n",
    "                    \n",
    "                    c3_dt[ct][feat_name] = val\n",
    "                    \n",
    "                    \n",
    "                except:\n",
    "                    feat_name = 'y{}_{}'.format(ijx,y)\n",
    "                    c3_dt[ct][feat_name] = np.nan\n",
    "\n",
    "        ct+= 1"
   ]
  },
  {
   "cell_type": "code",
   "execution_count": 159,
   "id": "b87af861",
   "metadata": {},
   "outputs": [],
   "source": [
    "c3_df = pd.DataFrame.from_dict(c3_dt,orient='index')"
   ]
  },
  {
   "cell_type": "code",
   "execution_count": 160,
   "id": "cc3e2446",
   "metadata": {},
   "outputs": [],
   "source": [
    "c3_df.dropna(how='all',subset=c3_df.columns[4:],inplace=True) #drop all NA cols"
   ]
  },
  {
   "cell_type": "code",
   "execution_count": 91,
   "id": "3c9b5b04",
   "metadata": {},
   "outputs": [
    {
     "data": {
      "text/plain": [
       "(111696, 20)"
      ]
     },
     "execution_count": 91,
     "metadata": {},
     "output_type": "execute_result"
    }
   ],
   "source": [
    "c3_df.shape"
   ]
  },
  {
   "cell_type": "code",
   "execution_count": 92,
   "id": "e8d80e81",
   "metadata": {},
   "outputs": [],
   "source": [
    "#Save Out\n",
    "c1_df.to_json('data/CROP_dataset/new_challenge1_dataset.json')\n",
    "c2_df.to_json('data/CROP_dataset/new_challenge2_dataset.json')\n",
    "c3_df.to_json('data/CROP_dataset/new_challenge3_dataset.json')"
   ]
  },
  {
   "cell_type": "markdown",
   "id": "9636a895",
   "metadata": {},
   "source": [
    "____\n",
    "## End"
   ]
  }
 ],
 "metadata": {
  "kernelspec": {
   "display_name": "Python 3 (ipykernel)",
   "language": "python",
   "name": "python3"
  },
  "language_info": {
   "codemirror_mode": {
    "name": "ipython",
    "version": 3
   },
   "file_extension": ".py",
   "mimetype": "text/x-python",
   "name": "python",
   "nbconvert_exporter": "python",
   "pygments_lexer": "ipython3",
   "version": "3.9.12"
  }
 },
 "nbformat": 4,
 "nbformat_minor": 5
}
